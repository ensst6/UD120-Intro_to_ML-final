{
 "cells": [
  {
   "cell_type": "markdown",
   "metadata": {},
   "source": [
    "## Udacity Intro to Machine (Ud-120) Learning Final Project\n",
    "\n",
    "**Objective:** Attempt to identify persons of interest (POIs) from the Enron financial fraud investigation based on financial and and summary email data. The data are provided, with POIs identified. The data, unfortunately, have many missing values, resulting in small final dataset."
   ]
  },
  {
   "cell_type": "code",
   "execution_count": 90,
   "metadata": {},
   "outputs": [],
   "source": [
    "import sys\n",
    "import pickle\n",
    "import numpy as np\n",
    "import pandas as pd\n",
    "import matplotlib.pyplot as plt\n",
    "import seaborn as sb\n",
    "from sklearn.naive_bayes import GaussianNB\n",
    "from sklearn.svm import SVC\n",
    "from sklearn.model_selection import train_test_split, StratifiedKFold, KFold, GridSearchCV\n",
    "from sklearn.metrics import precision_recall_fscore_support\n",
    "from sklearn.preprocessing import MinMaxScaler\n",
    "from sklearn.decomposition import PCA"
   ]
  },
  {
   "cell_type": "code",
   "execution_count": 88,
   "metadata": {},
   "outputs": [
    {
     "name": "stdout",
     "output_type": "stream",
     "text": [
      "{'salary': 365788, 'to_messages': 807, 'deferral_payments': 'NaN', 'total_payments': 1061827, 'loan_advances': 'NaN', 'bonus': 600000, 'email_address': 'mark.metts@enron.com', 'restricted_stock_deferred': 'NaN', 'deferred_income': 'NaN', 'total_stock_value': 585062, 'expenses': 94299, 'from_poi_to_this_person': 38, 'exercised_stock_options': 'NaN', 'from_messages': 29, 'other': 1740, 'from_this_person_to_poi': 1, 'poi': False, 'long_term_incentive': 'NaN', 'shared_receipt_with_poi': 702, 'restricted_stock': 585062, 'director_fees': 'NaN'}\n"
     ]
    }
   ],
   "source": [
    "### Load the dictionary containing the dataset\n",
    "with open(\"final_project_dataset.pkl\", \"rb\") as data_file:\n",
    "    data_dict = pickle.load(data_file)\n",
    "\n",
    "# Take a look at the layout of the dictionary\n",
    "print(data_dict['METTS MARK'])"
   ]
  },
  {
   "cell_type": "code",
   "execution_count": 89,
   "metadata": {},
   "outputs": [
    {
     "data": {
      "text/html": [
       "<div>\n",
       "<style scoped>\n",
       "    .dataframe tbody tr th:only-of-type {\n",
       "        vertical-align: middle;\n",
       "    }\n",
       "\n",
       "    .dataframe tbody tr th {\n",
       "        vertical-align: top;\n",
       "    }\n",
       "\n",
       "    .dataframe thead th {\n",
       "        text-align: right;\n",
       "    }\n",
       "</style>\n",
       "<table border=\"1\" class=\"dataframe\">\n",
       "  <thead>\n",
       "    <tr style=\"text-align: right;\">\n",
       "      <th></th>\n",
       "      <th>salary</th>\n",
       "      <th>to_messages</th>\n",
       "      <th>deferral_payments</th>\n",
       "      <th>total_payments</th>\n",
       "      <th>loan_advances</th>\n",
       "      <th>bonus</th>\n",
       "      <th>email_address</th>\n",
       "      <th>restricted_stock_deferred</th>\n",
       "      <th>deferred_income</th>\n",
       "      <th>total_stock_value</th>\n",
       "      <th>...</th>\n",
       "      <th>from_poi_to_this_person</th>\n",
       "      <th>exercised_stock_options</th>\n",
       "      <th>from_messages</th>\n",
       "      <th>other</th>\n",
       "      <th>from_this_person_to_poi</th>\n",
       "      <th>poi</th>\n",
       "      <th>long_term_incentive</th>\n",
       "      <th>shared_receipt_with_poi</th>\n",
       "      <th>restricted_stock</th>\n",
       "      <th>director_fees</th>\n",
       "    </tr>\n",
       "  </thead>\n",
       "  <tbody>\n",
       "    <tr>\n",
       "      <th>METTS MARK</th>\n",
       "      <td>365788</td>\n",
       "      <td>807</td>\n",
       "      <td>NaN</td>\n",
       "      <td>1061827</td>\n",
       "      <td>NaN</td>\n",
       "      <td>600000</td>\n",
       "      <td>mark.metts@enron.com</td>\n",
       "      <td>NaN</td>\n",
       "      <td>NaN</td>\n",
       "      <td>585062</td>\n",
       "      <td>...</td>\n",
       "      <td>38</td>\n",
       "      <td>NaN</td>\n",
       "      <td>29</td>\n",
       "      <td>1740</td>\n",
       "      <td>1</td>\n",
       "      <td>False</td>\n",
       "      <td>NaN</td>\n",
       "      <td>702</td>\n",
       "      <td>585062</td>\n",
       "      <td>NaN</td>\n",
       "    </tr>\n",
       "    <tr>\n",
       "      <th>BAXTER JOHN C</th>\n",
       "      <td>267102</td>\n",
       "      <td>NaN</td>\n",
       "      <td>1295738</td>\n",
       "      <td>5634343</td>\n",
       "      <td>NaN</td>\n",
       "      <td>1200000</td>\n",
       "      <td>NaN</td>\n",
       "      <td>NaN</td>\n",
       "      <td>-1386055</td>\n",
       "      <td>10623258</td>\n",
       "      <td>...</td>\n",
       "      <td>NaN</td>\n",
       "      <td>6680544</td>\n",
       "      <td>NaN</td>\n",
       "      <td>2660303</td>\n",
       "      <td>NaN</td>\n",
       "      <td>False</td>\n",
       "      <td>1586055</td>\n",
       "      <td>NaN</td>\n",
       "      <td>3942714</td>\n",
       "      <td>NaN</td>\n",
       "    </tr>\n",
       "    <tr>\n",
       "      <th>ELLIOTT STEVEN</th>\n",
       "      <td>170941</td>\n",
       "      <td>NaN</td>\n",
       "      <td>NaN</td>\n",
       "      <td>211725</td>\n",
       "      <td>NaN</td>\n",
       "      <td>350000</td>\n",
       "      <td>steven.elliott@enron.com</td>\n",
       "      <td>NaN</td>\n",
       "      <td>-400729</td>\n",
       "      <td>6678735</td>\n",
       "      <td>...</td>\n",
       "      <td>NaN</td>\n",
       "      <td>4890344</td>\n",
       "      <td>NaN</td>\n",
       "      <td>12961</td>\n",
       "      <td>NaN</td>\n",
       "      <td>False</td>\n",
       "      <td>NaN</td>\n",
       "      <td>NaN</td>\n",
       "      <td>1788391</td>\n",
       "      <td>NaN</td>\n",
       "    </tr>\n",
       "    <tr>\n",
       "      <th>CORDES WILLIAM R</th>\n",
       "      <td>NaN</td>\n",
       "      <td>764</td>\n",
       "      <td>NaN</td>\n",
       "      <td>NaN</td>\n",
       "      <td>NaN</td>\n",
       "      <td>NaN</td>\n",
       "      <td>bill.cordes@enron.com</td>\n",
       "      <td>NaN</td>\n",
       "      <td>NaN</td>\n",
       "      <td>1038185</td>\n",
       "      <td>...</td>\n",
       "      <td>10</td>\n",
       "      <td>651850</td>\n",
       "      <td>12</td>\n",
       "      <td>NaN</td>\n",
       "      <td>0</td>\n",
       "      <td>False</td>\n",
       "      <td>NaN</td>\n",
       "      <td>58</td>\n",
       "      <td>386335</td>\n",
       "      <td>NaN</td>\n",
       "    </tr>\n",
       "    <tr>\n",
       "      <th>HANNON KEVIN P</th>\n",
       "      <td>243293</td>\n",
       "      <td>1045</td>\n",
       "      <td>NaN</td>\n",
       "      <td>288682</td>\n",
       "      <td>NaN</td>\n",
       "      <td>1500000</td>\n",
       "      <td>kevin.hannon@enron.com</td>\n",
       "      <td>NaN</td>\n",
       "      <td>-3117011</td>\n",
       "      <td>6391065</td>\n",
       "      <td>...</td>\n",
       "      <td>32</td>\n",
       "      <td>5538001</td>\n",
       "      <td>32</td>\n",
       "      <td>11350</td>\n",
       "      <td>21</td>\n",
       "      <td>True</td>\n",
       "      <td>1617011</td>\n",
       "      <td>1035</td>\n",
       "      <td>853064</td>\n",
       "      <td>NaN</td>\n",
       "    </tr>\n",
       "  </tbody>\n",
       "</table>\n",
       "<p>5 rows × 21 columns</p>\n",
       "</div>"
      ],
      "text/plain": [
       "                  salary to_messages deferral_payments total_payments  \\\n",
       "METTS MARK        365788         807               NaN        1061827   \n",
       "BAXTER JOHN C     267102         NaN           1295738        5634343   \n",
       "ELLIOTT STEVEN    170941         NaN               NaN         211725   \n",
       "CORDES WILLIAM R     NaN         764               NaN            NaN   \n",
       "HANNON KEVIN P    243293        1045               NaN         288682   \n",
       "\n",
       "                 loan_advances    bonus             email_address  \\\n",
       "METTS MARK                 NaN   600000      mark.metts@enron.com   \n",
       "BAXTER JOHN C              NaN  1200000                       NaN   \n",
       "ELLIOTT STEVEN             NaN   350000  steven.elliott@enron.com   \n",
       "CORDES WILLIAM R           NaN      NaN     bill.cordes@enron.com   \n",
       "HANNON KEVIN P             NaN  1500000    kevin.hannon@enron.com   \n",
       "\n",
       "                 restricted_stock_deferred deferred_income total_stock_value  \\\n",
       "METTS MARK                             NaN             NaN            585062   \n",
       "BAXTER JOHN C                          NaN        -1386055          10623258   \n",
       "ELLIOTT STEVEN                         NaN         -400729           6678735   \n",
       "CORDES WILLIAM R                       NaN             NaN           1038185   \n",
       "HANNON KEVIN P                         NaN        -3117011           6391065   \n",
       "\n",
       "                  ... from_poi_to_this_person exercised_stock_options  \\\n",
       "METTS MARK        ...                      38                     NaN   \n",
       "BAXTER JOHN C     ...                     NaN                 6680544   \n",
       "ELLIOTT STEVEN    ...                     NaN                 4890344   \n",
       "CORDES WILLIAM R  ...                      10                  651850   \n",
       "HANNON KEVIN P    ...                      32                 5538001   \n",
       "\n",
       "                 from_messages    other from_this_person_to_poi    poi  \\\n",
       "METTS MARK                  29     1740                       1  False   \n",
       "BAXTER JOHN C              NaN  2660303                     NaN  False   \n",
       "ELLIOTT STEVEN             NaN    12961                     NaN  False   \n",
       "CORDES WILLIAM R            12      NaN                       0  False   \n",
       "HANNON KEVIN P              32    11350                      21   True   \n",
       "\n",
       "                  long_term_incentive shared_receipt_with_poi  \\\n",
       "METTS MARK                        NaN                     702   \n",
       "BAXTER JOHN C                 1586055                     NaN   \n",
       "ELLIOTT STEVEN                    NaN                     NaN   \n",
       "CORDES WILLIAM R                  NaN                      58   \n",
       "HANNON KEVIN P                1617011                    1035   \n",
       "\n",
       "                 restricted_stock director_fees  \n",
       "METTS MARK                 585062           NaN  \n",
       "BAXTER JOHN C             3942714           NaN  \n",
       "ELLIOTT STEVEN            1788391           NaN  \n",
       "CORDES WILLIAM R           386335           NaN  \n",
       "HANNON KEVIN P             853064           NaN  \n",
       "\n",
       "[5 rows x 21 columns]"
      ]
     },
     "execution_count": 89,
     "metadata": {},
     "output_type": "execute_result"
    }
   ],
   "source": [
    "# get rid of their dict/list structure and use dataframe\n",
    "enron = pd.DataFrame.from_dict(data_dict, orient='index')\n",
    "enron.head()"
   ]
  },
  {
   "cell_type": "code",
   "execution_count": 4,
   "metadata": {},
   "outputs": [
    {
     "name": "stdout",
     "output_type": "stream",
     "text": [
      "<class 'pandas.core.frame.DataFrame'>\n",
      "Index: 146 entries, METTS MARK to GLISAN JR BEN F\n",
      "Data columns (total 21 columns):\n",
      " #   Column                     Non-Null Count  Dtype \n",
      "---  ------                     --------------  ----- \n",
      " 0   salary                     146 non-null    object\n",
      " 1   to_messages                146 non-null    object\n",
      " 2   deferral_payments          146 non-null    object\n",
      " 3   total_payments             146 non-null    object\n",
      " 4   loan_advances              146 non-null    object\n",
      " 5   bonus                      146 non-null    object\n",
      " 6   email_address              146 non-null    object\n",
      " 7   restricted_stock_deferred  146 non-null    object\n",
      " 8   deferred_income            146 non-null    object\n",
      " 9   total_stock_value          146 non-null    object\n",
      " 10  expenses                   146 non-null    object\n",
      " 11  from_poi_to_this_person    146 non-null    object\n",
      " 12  exercised_stock_options    146 non-null    object\n",
      " 13  from_messages              146 non-null    object\n",
      " 14  other                      146 non-null    object\n",
      " 15  from_this_person_to_poi    146 non-null    object\n",
      " 16  poi                        146 non-null    bool  \n",
      " 17  long_term_incentive        146 non-null    object\n",
      " 18  shared_receipt_with_poi    146 non-null    object\n",
      " 19  restricted_stock           146 non-null    object\n",
      " 20  director_fees              146 non-null    object\n",
      "dtypes: bool(1), object(20)\n",
      "memory usage: 24.1+ KB\n"
     ]
    },
    {
     "data": {
      "text/plain": [
       "None"
      ]
     },
     "metadata": {},
     "output_type": "display_data"
    }
   ],
   "source": [
    "display(enron.info())"
   ]
  },
  {
   "cell_type": "code",
   "execution_count": 5,
   "metadata": {},
   "outputs": [
    {
     "data": {
      "text/plain": [
       "Index(['salary', 'to_messages', 'deferral_payments', 'total_payments',\n",
       "       'loan_advances', 'bonus', 'email_address', 'restricted_stock_deferred',\n",
       "       'deferred_income', 'total_stock_value', 'expenses',\n",
       "       'from_poi_to_this_person', 'exercised_stock_options', 'from_messages',\n",
       "       'other', 'from_this_person_to_poi', 'poi', 'long_term_incentive',\n",
       "       'shared_receipt_with_poi', 'restricted_stock', 'director_fees'],\n",
       "      dtype='object')"
      ]
     },
     "metadata": {},
     "output_type": "display_data"
    },
    {
     "name": "stdout",
     "output_type": "stream",
     "text": [
      "<class 'pandas.core.frame.DataFrame'>\n",
      "Index: 146 entries, METTS MARK to GLISAN JR BEN F\n",
      "Data columns (total 21 columns):\n",
      " #   Column                     Non-Null Count  Dtype  \n",
      "---  ------                     --------------  -----  \n",
      " 0   salary                     95 non-null     float64\n",
      " 1   to_messages                86 non-null     float64\n",
      " 2   deferral_payments          39 non-null     float64\n",
      " 3   total_payments             125 non-null    float64\n",
      " 4   loan_advances              4 non-null      float64\n",
      " 5   bonus                      82 non-null     float64\n",
      " 6   email_address              146 non-null    object \n",
      " 7   restricted_stock_deferred  18 non-null     float64\n",
      " 8   deferred_income            49 non-null     float64\n",
      " 9   total_stock_value          126 non-null    float64\n",
      " 10  expenses                   95 non-null     float64\n",
      " 11  from_poi_to_this_person    86 non-null     float64\n",
      " 12  exercised_stock_options    102 non-null    float64\n",
      " 13  from_messages              86 non-null     float64\n",
      " 14  other                      93 non-null     float64\n",
      " 15  from_this_person_to_poi    86 non-null     float64\n",
      " 16  poi                        146 non-null    bool   \n",
      " 17  long_term_incentive        66 non-null     float64\n",
      " 18  shared_receipt_with_poi    86 non-null     float64\n",
      " 19  restricted_stock           110 non-null    float64\n",
      " 20  director_fees              17 non-null     float64\n",
      "dtypes: bool(1), float64(19), object(1)\n",
      "memory usage: 24.1+ KB\n"
     ]
    }
   ],
   "source": [
    "# convert the numeric data to float, since that can handle the NaNs\n",
    "cols = enron.columns\n",
    "display(cols)\n",
    "cols_nonint = ['email_address', 'poi']\n",
    "\n",
    "for col in cols:\n",
    "    if col in cols_nonint:\n",
    "        continue\n",
    "    else:\n",
    "        enron[col] = enron[col].astype('float64')\n",
    "\n",
    "enron.info()"
   ]
  },
  {
   "cell_type": "code",
   "execution_count": 6,
   "metadata": {},
   "outputs": [
    {
     "data": {
      "text/html": [
       "<div>\n",
       "<style scoped>\n",
       "    .dataframe tbody tr th:only-of-type {\n",
       "        vertical-align: middle;\n",
       "    }\n",
       "\n",
       "    .dataframe tbody tr th {\n",
       "        vertical-align: top;\n",
       "    }\n",
       "\n",
       "    .dataframe thead th {\n",
       "        text-align: right;\n",
       "    }\n",
       "</style>\n",
       "<table border=\"1\" class=\"dataframe\">\n",
       "  <thead>\n",
       "    <tr style=\"text-align: right;\">\n",
       "      <th></th>\n",
       "      <th>salary</th>\n",
       "      <th>to_messages</th>\n",
       "      <th>deferral_payments</th>\n",
       "      <th>total_payments</th>\n",
       "      <th>loan_advances</th>\n",
       "      <th>bonus</th>\n",
       "      <th>restricted_stock_deferred</th>\n",
       "      <th>deferred_income</th>\n",
       "      <th>total_stock_value</th>\n",
       "      <th>expenses</th>\n",
       "      <th>from_poi_to_this_person</th>\n",
       "      <th>exercised_stock_options</th>\n",
       "      <th>from_messages</th>\n",
       "      <th>other</th>\n",
       "      <th>from_this_person_to_poi</th>\n",
       "      <th>long_term_incentive</th>\n",
       "      <th>shared_receipt_with_poi</th>\n",
       "      <th>restricted_stock</th>\n",
       "      <th>director_fees</th>\n",
       "    </tr>\n",
       "  </thead>\n",
       "  <tbody>\n",
       "    <tr>\n",
       "      <th>count</th>\n",
       "      <td>9.500000e+01</td>\n",
       "      <td>86.000000</td>\n",
       "      <td>3.900000e+01</td>\n",
       "      <td>1.250000e+02</td>\n",
       "      <td>4.000000e+00</td>\n",
       "      <td>8.200000e+01</td>\n",
       "      <td>1.800000e+01</td>\n",
       "      <td>4.900000e+01</td>\n",
       "      <td>1.260000e+02</td>\n",
       "      <td>9.500000e+01</td>\n",
       "      <td>86.000000</td>\n",
       "      <td>1.020000e+02</td>\n",
       "      <td>86.000000</td>\n",
       "      <td>9.300000e+01</td>\n",
       "      <td>86.000000</td>\n",
       "      <td>6.600000e+01</td>\n",
       "      <td>86.000000</td>\n",
       "      <td>1.100000e+02</td>\n",
       "      <td>1.700000e+01</td>\n",
       "    </tr>\n",
       "    <tr>\n",
       "      <th>mean</th>\n",
       "      <td>5.621943e+05</td>\n",
       "      <td>2073.860465</td>\n",
       "      <td>1.642674e+06</td>\n",
       "      <td>5.081526e+06</td>\n",
       "      <td>4.196250e+07</td>\n",
       "      <td>2.374235e+06</td>\n",
       "      <td>1.664106e+05</td>\n",
       "      <td>-1.140475e+06</td>\n",
       "      <td>6.773957e+06</td>\n",
       "      <td>1.087289e+05</td>\n",
       "      <td>64.895349</td>\n",
       "      <td>5.987054e+06</td>\n",
       "      <td>608.790698</td>\n",
       "      <td>9.190650e+05</td>\n",
       "      <td>41.232558</td>\n",
       "      <td>1.470361e+06</td>\n",
       "      <td>1176.465116</td>\n",
       "      <td>2.321741e+06</td>\n",
       "      <td>1.668049e+05</td>\n",
       "    </tr>\n",
       "    <tr>\n",
       "      <th>std</th>\n",
       "      <td>2.716369e+06</td>\n",
       "      <td>2582.700981</td>\n",
       "      <td>5.161930e+06</td>\n",
       "      <td>2.906172e+07</td>\n",
       "      <td>4.708321e+07</td>\n",
       "      <td>1.071333e+07</td>\n",
       "      <td>4.201494e+06</td>\n",
       "      <td>4.025406e+06</td>\n",
       "      <td>3.895777e+07</td>\n",
       "      <td>5.335348e+05</td>\n",
       "      <td>86.979244</td>\n",
       "      <td>3.106201e+07</td>\n",
       "      <td>1841.033949</td>\n",
       "      <td>4.589253e+06</td>\n",
       "      <td>100.073111</td>\n",
       "      <td>5.942759e+06</td>\n",
       "      <td>1178.317641</td>\n",
       "      <td>1.251828e+07</td>\n",
       "      <td>3.198914e+05</td>\n",
       "    </tr>\n",
       "    <tr>\n",
       "      <th>min</th>\n",
       "      <td>4.770000e+02</td>\n",
       "      <td>57.000000</td>\n",
       "      <td>-1.025000e+05</td>\n",
       "      <td>1.480000e+02</td>\n",
       "      <td>4.000000e+05</td>\n",
       "      <td>7.000000e+04</td>\n",
       "      <td>-7.576788e+06</td>\n",
       "      <td>-2.799289e+07</td>\n",
       "      <td>-4.409300e+04</td>\n",
       "      <td>1.480000e+02</td>\n",
       "      <td>0.000000</td>\n",
       "      <td>3.285000e+03</td>\n",
       "      <td>12.000000</td>\n",
       "      <td>2.000000e+00</td>\n",
       "      <td>0.000000</td>\n",
       "      <td>6.922300e+04</td>\n",
       "      <td>2.000000</td>\n",
       "      <td>-2.604490e+06</td>\n",
       "      <td>3.285000e+03</td>\n",
       "    </tr>\n",
       "    <tr>\n",
       "      <th>25%</th>\n",
       "      <td>2.118160e+05</td>\n",
       "      <td>541.250000</td>\n",
       "      <td>8.157300e+04</td>\n",
       "      <td>3.944750e+05</td>\n",
       "      <td>1.600000e+06</td>\n",
       "      <td>4.312500e+05</td>\n",
       "      <td>-3.896218e+05</td>\n",
       "      <td>-6.948620e+05</td>\n",
       "      <td>4.945102e+05</td>\n",
       "      <td>2.261400e+04</td>\n",
       "      <td>10.000000</td>\n",
       "      <td>5.278862e+05</td>\n",
       "      <td>22.750000</td>\n",
       "      <td>1.215000e+03</td>\n",
       "      <td>1.000000</td>\n",
       "      <td>2.812500e+05</td>\n",
       "      <td>249.750000</td>\n",
       "      <td>2.540180e+05</td>\n",
       "      <td>9.878400e+04</td>\n",
       "    </tr>\n",
       "    <tr>\n",
       "      <th>50%</th>\n",
       "      <td>2.599960e+05</td>\n",
       "      <td>1211.000000</td>\n",
       "      <td>2.274490e+05</td>\n",
       "      <td>1.101393e+06</td>\n",
       "      <td>4.176250e+07</td>\n",
       "      <td>7.693750e+05</td>\n",
       "      <td>-1.469750e+05</td>\n",
       "      <td>-1.597920e+05</td>\n",
       "      <td>1.102872e+06</td>\n",
       "      <td>4.695000e+04</td>\n",
       "      <td>35.000000</td>\n",
       "      <td>1.310814e+06</td>\n",
       "      <td>41.000000</td>\n",
       "      <td>5.238200e+04</td>\n",
       "      <td>8.000000</td>\n",
       "      <td>4.420350e+05</td>\n",
       "      <td>740.500000</td>\n",
       "      <td>4.517400e+05</td>\n",
       "      <td>1.085790e+05</td>\n",
       "    </tr>\n",
       "    <tr>\n",
       "      <th>75%</th>\n",
       "      <td>3.121170e+05</td>\n",
       "      <td>2634.750000</td>\n",
       "      <td>1.002672e+06</td>\n",
       "      <td>2.093263e+06</td>\n",
       "      <td>8.212500e+07</td>\n",
       "      <td>1.200000e+06</td>\n",
       "      <td>-7.500975e+04</td>\n",
       "      <td>-3.834600e+04</td>\n",
       "      <td>2.949847e+06</td>\n",
       "      <td>7.995250e+04</td>\n",
       "      <td>72.250000</td>\n",
       "      <td>2.547724e+06</td>\n",
       "      <td>145.500000</td>\n",
       "      <td>3.620960e+05</td>\n",
       "      <td>24.750000</td>\n",
       "      <td>9.386720e+05</td>\n",
       "      <td>1888.250000</td>\n",
       "      <td>1.002370e+06</td>\n",
       "      <td>1.137840e+05</td>\n",
       "    </tr>\n",
       "    <tr>\n",
       "      <th>max</th>\n",
       "      <td>2.670423e+07</td>\n",
       "      <td>15149.000000</td>\n",
       "      <td>3.208340e+07</td>\n",
       "      <td>3.098866e+08</td>\n",
       "      <td>8.392500e+07</td>\n",
       "      <td>9.734362e+07</td>\n",
       "      <td>1.545629e+07</td>\n",
       "      <td>-8.330000e+02</td>\n",
       "      <td>4.345095e+08</td>\n",
       "      <td>5.235198e+06</td>\n",
       "      <td>528.000000</td>\n",
       "      <td>3.117640e+08</td>\n",
       "      <td>14368.000000</td>\n",
       "      <td>4.266759e+07</td>\n",
       "      <td>609.000000</td>\n",
       "      <td>4.852193e+07</td>\n",
       "      <td>5521.000000</td>\n",
       "      <td>1.303223e+08</td>\n",
       "      <td>1.398517e+06</td>\n",
       "    </tr>\n",
       "  </tbody>\n",
       "</table>\n",
       "</div>"
      ],
      "text/plain": [
       "             salary   to_messages  deferral_payments  total_payments  \\\n",
       "count  9.500000e+01     86.000000       3.900000e+01    1.250000e+02   \n",
       "mean   5.621943e+05   2073.860465       1.642674e+06    5.081526e+06   \n",
       "std    2.716369e+06   2582.700981       5.161930e+06    2.906172e+07   \n",
       "min    4.770000e+02     57.000000      -1.025000e+05    1.480000e+02   \n",
       "25%    2.118160e+05    541.250000       8.157300e+04    3.944750e+05   \n",
       "50%    2.599960e+05   1211.000000       2.274490e+05    1.101393e+06   \n",
       "75%    3.121170e+05   2634.750000       1.002672e+06    2.093263e+06   \n",
       "max    2.670423e+07  15149.000000       3.208340e+07    3.098866e+08   \n",
       "\n",
       "       loan_advances         bonus  restricted_stock_deferred  \\\n",
       "count   4.000000e+00  8.200000e+01               1.800000e+01   \n",
       "mean    4.196250e+07  2.374235e+06               1.664106e+05   \n",
       "std     4.708321e+07  1.071333e+07               4.201494e+06   \n",
       "min     4.000000e+05  7.000000e+04              -7.576788e+06   \n",
       "25%     1.600000e+06  4.312500e+05              -3.896218e+05   \n",
       "50%     4.176250e+07  7.693750e+05              -1.469750e+05   \n",
       "75%     8.212500e+07  1.200000e+06              -7.500975e+04   \n",
       "max     8.392500e+07  9.734362e+07               1.545629e+07   \n",
       "\n",
       "       deferred_income  total_stock_value      expenses  \\\n",
       "count     4.900000e+01       1.260000e+02  9.500000e+01   \n",
       "mean     -1.140475e+06       6.773957e+06  1.087289e+05   \n",
       "std       4.025406e+06       3.895777e+07  5.335348e+05   \n",
       "min      -2.799289e+07      -4.409300e+04  1.480000e+02   \n",
       "25%      -6.948620e+05       4.945102e+05  2.261400e+04   \n",
       "50%      -1.597920e+05       1.102872e+06  4.695000e+04   \n",
       "75%      -3.834600e+04       2.949847e+06  7.995250e+04   \n",
       "max      -8.330000e+02       4.345095e+08  5.235198e+06   \n",
       "\n",
       "       from_poi_to_this_person  exercised_stock_options  from_messages  \\\n",
       "count                86.000000             1.020000e+02      86.000000   \n",
       "mean                 64.895349             5.987054e+06     608.790698   \n",
       "std                  86.979244             3.106201e+07    1841.033949   \n",
       "min                   0.000000             3.285000e+03      12.000000   \n",
       "25%                  10.000000             5.278862e+05      22.750000   \n",
       "50%                  35.000000             1.310814e+06      41.000000   \n",
       "75%                  72.250000             2.547724e+06     145.500000   \n",
       "max                 528.000000             3.117640e+08   14368.000000   \n",
       "\n",
       "              other  from_this_person_to_poi  long_term_incentive  \\\n",
       "count  9.300000e+01                86.000000         6.600000e+01   \n",
       "mean   9.190650e+05                41.232558         1.470361e+06   \n",
       "std    4.589253e+06               100.073111         5.942759e+06   \n",
       "min    2.000000e+00                 0.000000         6.922300e+04   \n",
       "25%    1.215000e+03                 1.000000         2.812500e+05   \n",
       "50%    5.238200e+04                 8.000000         4.420350e+05   \n",
       "75%    3.620960e+05                24.750000         9.386720e+05   \n",
       "max    4.266759e+07               609.000000         4.852193e+07   \n",
       "\n",
       "       shared_receipt_with_poi  restricted_stock  director_fees  \n",
       "count                86.000000      1.100000e+02   1.700000e+01  \n",
       "mean               1176.465116      2.321741e+06   1.668049e+05  \n",
       "std                1178.317641      1.251828e+07   3.198914e+05  \n",
       "min                   2.000000     -2.604490e+06   3.285000e+03  \n",
       "25%                 249.750000      2.540180e+05   9.878400e+04  \n",
       "50%                 740.500000      4.517400e+05   1.085790e+05  \n",
       "75%                1888.250000      1.002370e+06   1.137840e+05  \n",
       "max                5521.000000      1.303223e+08   1.398517e+06  "
      ]
     },
     "execution_count": 6,
     "metadata": {},
     "output_type": "execute_result"
    }
   ],
   "source": [
    "enron.describe()"
   ]
  },
  {
   "cell_type": "markdown",
   "metadata": {},
   "source": [
    "The dataset is not large (146 people) and there appear to be quite a few missing/NaN entries, e.g. salary data for 51 people, bonus data for 64, email for 60."
   ]
  },
  {
   "cell_type": "markdown",
   "metadata": {},
   "source": [
    "There are some very high max numbers for all of the salary/payment columns. \n",
    "In earlier lessons, there was a \"TOTAL\" column erroneously in the data. \n",
    "See if that and any other non-people are in the list."
   ]
  },
  {
   "cell_type": "code",
   "execution_count": 7,
   "metadata": {},
   "outputs": [
    {
     "data": {
      "text/plain": [
       "Index(['METTS MARK', 'BAXTER JOHN C', 'ELLIOTT STEVEN', 'CORDES WILLIAM R',\n",
       "       'HANNON KEVIN P', 'MORDAUNT KRISTINA M', 'MEYER ROCKFORD G',\n",
       "       'MCMAHON JEFFREY', 'HAEDICKE MARK E', 'PIPER GREGORY F',\n",
       "       'HUMPHREY GENE E', 'NOLES JAMES L', 'BLACHMAN JEREMY M', 'SUNDE MARTIN',\n",
       "       'GIBBS DANA R', 'LOWRY CHARLES P', 'COLWELL WESLEY', 'MULLER MARK S',\n",
       "       'JACKSON CHARLENE R', 'WESTFAHL RICHARD K', 'WALTERS GARETH W',\n",
       "       'WALLS JR ROBERT H', 'KITCHEN LOUISE', 'CHAN RONNIE', 'BELFER ROBERT',\n",
       "       'SHANKMAN JEFFREY A', 'WODRASKA JOHN', 'BERGSIEKER RICHARD P',\n",
       "       'URQUHART JOHN A', 'BIBI PHILIPPE A', 'RIEKER PAULA H',\n",
       "       'WHALEY DAVID A', 'BECK SALLY W', 'HAUG DAVID L', 'ECHOLS JOHN B',\n",
       "       'MENDELSOHN JOHN', 'HICKERSON GARY J', 'CLINE KENNETH W',\n",
       "       'LEWIS RICHARD', 'HAYES ROBERT E', 'KOPPER MICHAEL J', 'LEFF DANIEL P',\n",
       "       'LAVORATO JOHN J', 'BERBERIAN DAVID', 'DETMERING TIMOTHY J',\n",
       "       'WAKEHAM JOHN', 'POWERS WILLIAM', 'GOLD JOSEPH', 'BANNANTINE JAMES M',\n",
       "       'DUNCAN JOHN H'],\n",
       "      dtype='object')"
      ]
     },
     "execution_count": 7,
     "metadata": {},
     "output_type": "execute_result"
    }
   ],
   "source": [
    "enron.index[0:50]"
   ]
  },
  {
   "cell_type": "code",
   "execution_count": 8,
   "metadata": {},
   "outputs": [
    {
     "data": {
      "text/plain": [
       "Index(['SHERRIFF JOHN R', 'SHELBY REX', 'LEMAISTRE CHARLES',\n",
       "       'DEFFNER JOSEPH M', 'KISHKILL JOSEPH G', 'WHALLEY LAWRENCE G',\n",
       "       'MCCONNELL MICHAEL S', 'PIRO JIM', 'DELAINEY DAVID W',\n",
       "       'SULLIVAN-SHAKLOVITZ COLLEEN', 'WROBEL BRUCE', 'LINDHOLM TOD A',\n",
       "       'MEYER JEROME J', 'LAY KENNETH L', 'BUTTS ROBERT H', 'OLSON CINDY K',\n",
       "       'MCDONALD REBECCA', 'CUMBERLAND MICHAEL S', 'GAHN ROBERT S',\n",
       "       'BADUM JAMES P', 'HERMANN ROBERT J', 'FALLON JAMES B',\n",
       "       'GATHMANN WILLIAM D', 'HORTON STANLEY C', 'BOWEN JR RAYMOND M',\n",
       "       'GILLIS JOHN', 'FITZGERALD JAY L', 'MORAN MICHAEL P', 'REDMOND BRIAN L',\n",
       "       'BAZELIDES PHILIP J', 'BELDEN TIMOTHY N', 'DIMICHELE RICHARD G',\n",
       "       'DURAN WILLIAM D', 'THORN TERENCE H', 'FASTOW ANDREW S', 'FOY JOE',\n",
       "       'CALGER CHRISTOPHER F', 'RICE KENNETH D', 'KAMINSKI WINCENTY J',\n",
       "       'LOCKHART EUGENE E', 'COX DAVID', 'OVERDYKE JR JERE C',\n",
       "       'PEREIRA PAULO V. FERRAZ', 'STABLER FRANK', 'SKILLING JEFFREY K',\n",
       "       'BLAKE JR. NORMAN P', 'SHERRICK JEFFREY B', 'PRENTICE JAMES',\n",
       "       'GRAY RODNEY'],\n",
       "      dtype='object')"
      ]
     },
     "execution_count": 8,
     "metadata": {},
     "output_type": "execute_result"
    }
   ],
   "source": [
    "enron.index[51:100]"
   ]
  },
  {
   "cell_type": "code",
   "execution_count": 9,
   "metadata": {},
   "outputs": [
    {
     "data": {
      "text/plain": [
       "Index(['UMANOFF ADAM S', 'KEAN STEVEN J', 'TOTAL', 'FOWLER PEGGY',\n",
       "       'WASAFF GEORGE', 'WHITE JR THOMAS E', 'CHRISTODOULOU DIOMEDES',\n",
       "       'ALLEN PHILLIP K', 'SHARP VICTORIA T', 'JAEDICKE ROBERT',\n",
       "       'WINOKUR JR. HERBERT S', 'BROWN MICHAEL', 'MCCLELLAN GEORGE',\n",
       "       'HUGHES JAMES A', 'REYNOLDS LAWRENCE', 'PICKERING MARK R',\n",
       "       'BHATNAGAR SANJAY', 'CARTER REBECCA C', 'BUCHANAN HAROLD G',\n",
       "       'YEAP SOON', 'MURRAY JULIA H', 'GARLAND C KEVIN', 'DODSON KEITH',\n",
       "       'YEAGER F SCOTT', 'HIRKO JOSEPH', 'DIETRICH JANET R',\n",
       "       'DERRICK JR. JAMES V', 'FREVERT MARK A', 'PAI LOU L',\n",
       "       'HAYSLETT RODERICK J', 'BAY FRANKLIN R', 'MCCARTY DANNY J',\n",
       "       'FUGH JOHN L', 'SCRIMSHAW MATTHEW', 'KOENIG MARK E', 'SAVAGE FRANK',\n",
       "       'IZZO LAWRENCE L', 'TILNEY ELIZABETH A', 'MARTIN AMANDA K',\n",
       "       'BUY RICHARD B', 'GRAMM WENDY L', 'CAUSEY RICHARD A',\n",
       "       'TAYLOR MITCHELL S', 'DONAHUE JR JEFFREY M'],\n",
       "      dtype='object')"
      ]
     },
     "execution_count": 9,
     "metadata": {},
     "output_type": "execute_result"
    }
   ],
   "source": [
    "enron.index[101:145]"
   ]
  },
  {
   "cell_type": "code",
   "execution_count": 10,
   "metadata": {},
   "outputs": [
    {
     "data": {
      "text/plain": [
       "salary                       2.67042e+07\n",
       "to_messages                          NaN\n",
       "deferral_payments            3.20834e+07\n",
       "total_payments               3.09887e+08\n",
       "loan_advances                 8.3925e+07\n",
       "bonus                        9.73436e+07\n",
       "email_address                        NaN\n",
       "restricted_stock_deferred   -7.57679e+06\n",
       "deferred_income             -2.79929e+07\n",
       "total_stock_value             4.3451e+08\n",
       "expenses                      5.2352e+06\n",
       "from_poi_to_this_person              NaN\n",
       "exercised_stock_options      3.11764e+08\n",
       "from_messages                        NaN\n",
       "other                        4.26676e+07\n",
       "from_this_person_to_poi              NaN\n",
       "poi                                False\n",
       "long_term_incentive          4.85219e+07\n",
       "shared_receipt_with_poi              NaN\n",
       "restricted_stock             1.30322e+08\n",
       "director_fees                1.39852e+06\n",
       "Name: TOTAL, dtype: object"
      ]
     },
     "execution_count": 10,
     "metadata": {},
     "output_type": "execute_result"
    }
   ],
   "source": [
    "enron.loc[\"TOTAL\",:]"
   ]
  },
  {
   "cell_type": "markdown",
   "metadata": {},
   "source": [
    "Delete the \"TOTAL\" entry."
   ]
  },
  {
   "cell_type": "code",
   "execution_count": 11,
   "metadata": {},
   "outputs": [],
   "source": [
    "enron.drop('TOTAL', axis = 0, inplace=True)"
   ]
  },
  {
   "cell_type": "code",
   "execution_count": 12,
   "metadata": {},
   "outputs": [
    {
     "data": {
      "text/html": [
       "<div>\n",
       "<style scoped>\n",
       "    .dataframe tbody tr th:only-of-type {\n",
       "        vertical-align: middle;\n",
       "    }\n",
       "\n",
       "    .dataframe tbody tr th {\n",
       "        vertical-align: top;\n",
       "    }\n",
       "\n",
       "    .dataframe thead th {\n",
       "        text-align: right;\n",
       "    }\n",
       "</style>\n",
       "<table border=\"1\" class=\"dataframe\">\n",
       "  <thead>\n",
       "    <tr style=\"text-align: right;\">\n",
       "      <th></th>\n",
       "      <th>salary</th>\n",
       "      <th>to_messages</th>\n",
       "      <th>deferral_payments</th>\n",
       "      <th>total_payments</th>\n",
       "      <th>loan_advances</th>\n",
       "      <th>bonus</th>\n",
       "      <th>restricted_stock_deferred</th>\n",
       "      <th>deferred_income</th>\n",
       "      <th>total_stock_value</th>\n",
       "      <th>expenses</th>\n",
       "      <th>from_poi_to_this_person</th>\n",
       "      <th>exercised_stock_options</th>\n",
       "      <th>from_messages</th>\n",
       "      <th>other</th>\n",
       "      <th>from_this_person_to_poi</th>\n",
       "      <th>long_term_incentive</th>\n",
       "      <th>shared_receipt_with_poi</th>\n",
       "      <th>restricted_stock</th>\n",
       "      <th>director_fees</th>\n",
       "    </tr>\n",
       "  </thead>\n",
       "  <tbody>\n",
       "    <tr>\n",
       "      <th>count</th>\n",
       "      <td>9.400000e+01</td>\n",
       "      <td>86.000000</td>\n",
       "      <td>3.800000e+01</td>\n",
       "      <td>1.240000e+02</td>\n",
       "      <td>3.000000e+00</td>\n",
       "      <td>8.100000e+01</td>\n",
       "      <td>1.700000e+01</td>\n",
       "      <td>4.800000e+01</td>\n",
       "      <td>1.250000e+02</td>\n",
       "      <td>94.000000</td>\n",
       "      <td>86.000000</td>\n",
       "      <td>1.010000e+02</td>\n",
       "      <td>86.000000</td>\n",
       "      <td>9.200000e+01</td>\n",
       "      <td>86.000000</td>\n",
       "      <td>6.500000e+01</td>\n",
       "      <td>86.000000</td>\n",
       "      <td>1.090000e+02</td>\n",
       "      <td>16.000000</td>\n",
       "    </tr>\n",
       "    <tr>\n",
       "      <th>mean</th>\n",
       "      <td>2.840875e+05</td>\n",
       "      <td>2073.860465</td>\n",
       "      <td>8.416025e+05</td>\n",
       "      <td>2.623421e+06</td>\n",
       "      <td>2.797500e+07</td>\n",
       "      <td>1.201773e+06</td>\n",
       "      <td>6.218928e+05</td>\n",
       "      <td>-5.810498e+05</td>\n",
       "      <td>3.352073e+06</td>\n",
       "      <td>54192.010638</td>\n",
       "      <td>64.895349</td>\n",
       "      <td>2.959559e+06</td>\n",
       "      <td>608.790698</td>\n",
       "      <td>4.652767e+05</td>\n",
       "      <td>41.232558</td>\n",
       "      <td>7.464912e+05</td>\n",
       "      <td>1176.465116</td>\n",
       "      <td>1.147424e+06</td>\n",
       "      <td>89822.875000</td>\n",
       "    </tr>\n",
       "    <tr>\n",
       "      <th>std</th>\n",
       "      <td>1.771311e+05</td>\n",
       "      <td>2582.700981</td>\n",
       "      <td>1.289323e+06</td>\n",
       "      <td>9.488106e+06</td>\n",
       "      <td>4.638256e+07</td>\n",
       "      <td>1.441679e+06</td>\n",
       "      <td>3.845528e+06</td>\n",
       "      <td>9.420764e+05</td>\n",
       "      <td>6.532883e+06</td>\n",
       "      <td>46108.377454</td>\n",
       "      <td>86.979244</td>\n",
       "      <td>5.499450e+06</td>\n",
       "      <td>1841.033949</td>\n",
       "      <td>1.389719e+06</td>\n",
       "      <td>100.073111</td>\n",
       "      <td>8.629174e+05</td>\n",
       "      <td>1178.317641</td>\n",
       "      <td>2.249770e+06</td>\n",
       "      <td>41112.700735</td>\n",
       "    </tr>\n",
       "    <tr>\n",
       "      <th>min</th>\n",
       "      <td>4.770000e+02</td>\n",
       "      <td>57.000000</td>\n",
       "      <td>-1.025000e+05</td>\n",
       "      <td>1.480000e+02</td>\n",
       "      <td>4.000000e+05</td>\n",
       "      <td>7.000000e+04</td>\n",
       "      <td>-1.787380e+06</td>\n",
       "      <td>-3.504386e+06</td>\n",
       "      <td>-4.409300e+04</td>\n",
       "      <td>148.000000</td>\n",
       "      <td>0.000000</td>\n",
       "      <td>3.285000e+03</td>\n",
       "      <td>12.000000</td>\n",
       "      <td>2.000000e+00</td>\n",
       "      <td>0.000000</td>\n",
       "      <td>6.922300e+04</td>\n",
       "      <td>2.000000</td>\n",
       "      <td>-2.604490e+06</td>\n",
       "      <td>3285.000000</td>\n",
       "    </tr>\n",
       "    <tr>\n",
       "      <th>25%</th>\n",
       "      <td>2.118020e+05</td>\n",
       "      <td>541.250000</td>\n",
       "      <td>7.964450e+04</td>\n",
       "      <td>3.863802e+05</td>\n",
       "      <td>1.200000e+06</td>\n",
       "      <td>4.250000e+05</td>\n",
       "      <td>-3.298250e+05</td>\n",
       "      <td>-6.112092e+05</td>\n",
       "      <td>4.941360e+05</td>\n",
       "      <td>22479.000000</td>\n",
       "      <td>10.000000</td>\n",
       "      <td>5.067650e+05</td>\n",
       "      <td>22.750000</td>\n",
       "      <td>1.209000e+03</td>\n",
       "      <td>1.000000</td>\n",
       "      <td>2.750000e+05</td>\n",
       "      <td>249.750000</td>\n",
       "      <td>2.520550e+05</td>\n",
       "      <td>83674.500000</td>\n",
       "    </tr>\n",
       "    <tr>\n",
       "      <th>50%</th>\n",
       "      <td>2.587410e+05</td>\n",
       "      <td>1211.000000</td>\n",
       "      <td>2.210635e+05</td>\n",
       "      <td>1.100246e+06</td>\n",
       "      <td>2.000000e+06</td>\n",
       "      <td>7.500000e+05</td>\n",
       "      <td>-1.402640e+05</td>\n",
       "      <td>-1.519270e+05</td>\n",
       "      <td>1.095040e+06</td>\n",
       "      <td>46547.500000</td>\n",
       "      <td>35.000000</td>\n",
       "      <td>1.297049e+06</td>\n",
       "      <td>41.000000</td>\n",
       "      <td>5.198450e+04</td>\n",
       "      <td>8.000000</td>\n",
       "      <td>4.221580e+05</td>\n",
       "      <td>740.500000</td>\n",
       "      <td>4.410960e+05</td>\n",
       "      <td>106164.500000</td>\n",
       "    </tr>\n",
       "    <tr>\n",
       "      <th>75%</th>\n",
       "      <td>3.086065e+05</td>\n",
       "      <td>2634.750000</td>\n",
       "      <td>8.672112e+05</td>\n",
       "      <td>2.084663e+06</td>\n",
       "      <td>4.176250e+07</td>\n",
       "      <td>1.200000e+06</td>\n",
       "      <td>-7.241900e+04</td>\n",
       "      <td>-3.792600e+04</td>\n",
       "      <td>2.606763e+06</td>\n",
       "      <td>78408.500000</td>\n",
       "      <td>72.250000</td>\n",
       "      <td>2.542813e+06</td>\n",
       "      <td>145.500000</td>\n",
       "      <td>3.575772e+05</td>\n",
       "      <td>24.750000</td>\n",
       "      <td>8.318090e+05</td>\n",
       "      <td>1888.250000</td>\n",
       "      <td>9.850320e+05</td>\n",
       "      <td>112815.000000</td>\n",
       "    </tr>\n",
       "    <tr>\n",
       "      <th>max</th>\n",
       "      <td>1.111258e+06</td>\n",
       "      <td>15149.000000</td>\n",
       "      <td>6.426990e+06</td>\n",
       "      <td>1.035598e+08</td>\n",
       "      <td>8.152500e+07</td>\n",
       "      <td>8.000000e+06</td>\n",
       "      <td>1.545629e+07</td>\n",
       "      <td>-8.330000e+02</td>\n",
       "      <td>4.911008e+07</td>\n",
       "      <td>228763.000000</td>\n",
       "      <td>528.000000</td>\n",
       "      <td>3.434838e+07</td>\n",
       "      <td>14368.000000</td>\n",
       "      <td>1.035973e+07</td>\n",
       "      <td>609.000000</td>\n",
       "      <td>5.145434e+06</td>\n",
       "      <td>5521.000000</td>\n",
       "      <td>1.476169e+07</td>\n",
       "      <td>137864.000000</td>\n",
       "    </tr>\n",
       "  </tbody>\n",
       "</table>\n",
       "</div>"
      ],
      "text/plain": [
       "             salary   to_messages  deferral_payments  total_payments  \\\n",
       "count  9.400000e+01     86.000000       3.800000e+01    1.240000e+02   \n",
       "mean   2.840875e+05   2073.860465       8.416025e+05    2.623421e+06   \n",
       "std    1.771311e+05   2582.700981       1.289323e+06    9.488106e+06   \n",
       "min    4.770000e+02     57.000000      -1.025000e+05    1.480000e+02   \n",
       "25%    2.118020e+05    541.250000       7.964450e+04    3.863802e+05   \n",
       "50%    2.587410e+05   1211.000000       2.210635e+05    1.100246e+06   \n",
       "75%    3.086065e+05   2634.750000       8.672112e+05    2.084663e+06   \n",
       "max    1.111258e+06  15149.000000       6.426990e+06    1.035598e+08   \n",
       "\n",
       "       loan_advances         bonus  restricted_stock_deferred  \\\n",
       "count   3.000000e+00  8.100000e+01               1.700000e+01   \n",
       "mean    2.797500e+07  1.201773e+06               6.218928e+05   \n",
       "std     4.638256e+07  1.441679e+06               3.845528e+06   \n",
       "min     4.000000e+05  7.000000e+04              -1.787380e+06   \n",
       "25%     1.200000e+06  4.250000e+05              -3.298250e+05   \n",
       "50%     2.000000e+06  7.500000e+05              -1.402640e+05   \n",
       "75%     4.176250e+07  1.200000e+06              -7.241900e+04   \n",
       "max     8.152500e+07  8.000000e+06               1.545629e+07   \n",
       "\n",
       "       deferred_income  total_stock_value       expenses  \\\n",
       "count     4.800000e+01       1.250000e+02      94.000000   \n",
       "mean     -5.810498e+05       3.352073e+06   54192.010638   \n",
       "std       9.420764e+05       6.532883e+06   46108.377454   \n",
       "min      -3.504386e+06      -4.409300e+04     148.000000   \n",
       "25%      -6.112092e+05       4.941360e+05   22479.000000   \n",
       "50%      -1.519270e+05       1.095040e+06   46547.500000   \n",
       "75%      -3.792600e+04       2.606763e+06   78408.500000   \n",
       "max      -8.330000e+02       4.911008e+07  228763.000000   \n",
       "\n",
       "       from_poi_to_this_person  exercised_stock_options  from_messages  \\\n",
       "count                86.000000             1.010000e+02      86.000000   \n",
       "mean                 64.895349             2.959559e+06     608.790698   \n",
       "std                  86.979244             5.499450e+06    1841.033949   \n",
       "min                   0.000000             3.285000e+03      12.000000   \n",
       "25%                  10.000000             5.067650e+05      22.750000   \n",
       "50%                  35.000000             1.297049e+06      41.000000   \n",
       "75%                  72.250000             2.542813e+06     145.500000   \n",
       "max                 528.000000             3.434838e+07   14368.000000   \n",
       "\n",
       "              other  from_this_person_to_poi  long_term_incentive  \\\n",
       "count  9.200000e+01                86.000000         6.500000e+01   \n",
       "mean   4.652767e+05                41.232558         7.464912e+05   \n",
       "std    1.389719e+06               100.073111         8.629174e+05   \n",
       "min    2.000000e+00                 0.000000         6.922300e+04   \n",
       "25%    1.209000e+03                 1.000000         2.750000e+05   \n",
       "50%    5.198450e+04                 8.000000         4.221580e+05   \n",
       "75%    3.575772e+05                24.750000         8.318090e+05   \n",
       "max    1.035973e+07               609.000000         5.145434e+06   \n",
       "\n",
       "       shared_receipt_with_poi  restricted_stock  director_fees  \n",
       "count                86.000000      1.090000e+02      16.000000  \n",
       "mean               1176.465116      1.147424e+06   89822.875000  \n",
       "std                1178.317641      2.249770e+06   41112.700735  \n",
       "min                   2.000000     -2.604490e+06    3285.000000  \n",
       "25%                 249.750000      2.520550e+05   83674.500000  \n",
       "50%                 740.500000      4.410960e+05  106164.500000  \n",
       "75%                1888.250000      9.850320e+05  112815.000000  \n",
       "max                5521.000000      1.476169e+07  137864.000000  "
      ]
     },
     "execution_count": 12,
     "metadata": {},
     "output_type": "execute_result"
    }
   ],
   "source": [
    "enron.describe()"
   ]
  },
  {
   "cell_type": "markdown",
   "metadata": {},
   "source": [
    "#### Selecting Features of Interest & Creating New Features\n",
    "\n",
    "Plot distributions and plot features vs. POI status using bar plots to try to discern which features are associated with POI status"
   ]
  },
  {
   "cell_type": "code",
   "execution_count": 13,
   "metadata": {},
   "outputs": [
    {
     "data": {
      "image/png": "[encoded data removed]",
      "text/plain": [
       "<Figure size 432x288 with 1 Axes>"
      ]
     },
     "metadata": {
      "needs_background": "light"
     },
     "output_type": "display_data"
    }
   ],
   "source": [
    "plt.hist(data=enron, x='salary', bins=30)\n",
    "plt.xlabel(\"salary\");"
   ]
  },
  {
   "cell_type": "code",
   "execution_count": 14,
   "metadata": {},
   "outputs": [
    {
     "data": {
      "image/png": "[encoded data removed]",
      "text/plain": [
       "<Figure size 432x288 with 1 Axes>"
      ]
     },
     "metadata": {
      "needs_background": "light"
     },
     "output_type": "display_data"
    }
   ],
   "source": [
    "sb.boxplot(data=enron, x='poi', y='salary', color='brown')\n",
    "plt.ylabel('salary')\n",
    "plt.xlabel('POI?');"
   ]
  },
  {
   "cell_type": "code",
   "execution_count": 15,
   "metadata": {},
   "outputs": [
    {
     "data": {
      "image/png": "[encoded data removed]",
      "text/plain": [
       "<Figure size 432x288 with 1 Axes>"
      ]
     },
     "metadata": {
      "needs_background": "light"
     },
     "output_type": "display_data"
    }
   ],
   "source": [
    "plt.hist(data=enron, x='deferral_payments', bins=30)\n",
    "plt.xlabel(\"deferral pmts\");"
   ]
  },
  {
   "cell_type": "code",
   "execution_count": 16,
   "metadata": {},
   "outputs": [
    {
     "data": {
      "image/png": "[encoded data removed]",
      "text/plain": [
       "<Figure size 432x288 with 1 Axes>"
      ]
     },
     "metadata": {
      "needs_background": "light"
     },
     "output_type": "display_data"
    }
   ],
   "source": [
    "bins = 10**np.arange(3.75,6.5,0.125)\n",
    "plt.hist(data=enron, x='deferral_payments', bins=bins)\n",
    "plt.xscale(\"log\")\n",
    "plt.xlabel(\"deferral pmts\")\n",
    "new_tix = [7500, 25000, 200000, 500000, 1500000]\n",
    "new_labs = ['{:.1e}'.format(v) for v in new_tix]\n",
    "plt.xticks(new_tix, new_labs, rotation=45);"
   ]
  },
  {
   "cell_type": "code",
   "execution_count": 17,
   "metadata": {},
   "outputs": [
    {
     "data": {
      "image/png": "[encoded data removed]",
      "text/plain": [
       "<Figure size 432x288 with 1 Axes>"
      ]
     },
     "metadata": {
      "needs_background": "light"
     },
     "output_type": "display_data"
    }
   ],
   "source": [
    "sb.boxplot(data=enron, x='poi', y='deferral_payments', color='brown')\n",
    "plt.ylabel('deferral pmts')\n",
    "plt.xlabel('POI?');"
   ]
  },
  {
   "cell_type": "code",
   "execution_count": 18,
   "metadata": {},
   "outputs": [
    {
     "data": {
      "text/html": [
       "<div>\n",
       "<style scoped>\n",
       "    .dataframe tbody tr th:only-of-type {\n",
       "        vertical-align: middle;\n",
       "    }\n",
       "\n",
       "    .dataframe tbody tr th {\n",
       "        vertical-align: top;\n",
       "    }\n",
       "\n",
       "    .dataframe thead th {\n",
       "        text-align: right;\n",
       "    }\n",
       "</style>\n",
       "<table border=\"1\" class=\"dataframe\">\n",
       "  <thead>\n",
       "    <tr style=\"text-align: right;\">\n",
       "      <th></th>\n",
       "      <th>salary</th>\n",
       "      <th>to_messages</th>\n",
       "      <th>deferral_payments</th>\n",
       "      <th>total_payments</th>\n",
       "      <th>loan_advances</th>\n",
       "      <th>bonus</th>\n",
       "      <th>email_address</th>\n",
       "      <th>restricted_stock_deferred</th>\n",
       "      <th>deferred_income</th>\n",
       "      <th>total_stock_value</th>\n",
       "      <th>...</th>\n",
       "      <th>from_poi_to_this_person</th>\n",
       "      <th>exercised_stock_options</th>\n",
       "      <th>from_messages</th>\n",
       "      <th>other</th>\n",
       "      <th>from_this_person_to_poi</th>\n",
       "      <th>poi</th>\n",
       "      <th>long_term_incentive</th>\n",
       "      <th>shared_receipt_with_poi</th>\n",
       "      <th>restricted_stock</th>\n",
       "      <th>director_fees</th>\n",
       "    </tr>\n",
       "  </thead>\n",
       "  <tbody>\n",
       "    <tr>\n",
       "      <th>BELFER ROBERT</th>\n",
       "      <td>NaN</td>\n",
       "      <td>NaN</td>\n",
       "      <td>-102500.0</td>\n",
       "      <td>102500.0</td>\n",
       "      <td>NaN</td>\n",
       "      <td>NaN</td>\n",
       "      <td>NaN</td>\n",
       "      <td>44093.0</td>\n",
       "      <td>NaN</td>\n",
       "      <td>-44093.0</td>\n",
       "      <td>...</td>\n",
       "      <td>NaN</td>\n",
       "      <td>3285.0</td>\n",
       "      <td>NaN</td>\n",
       "      <td>NaN</td>\n",
       "      <td>NaN</td>\n",
       "      <td>False</td>\n",
       "      <td>NaN</td>\n",
       "      <td>NaN</td>\n",
       "      <td>NaN</td>\n",
       "      <td>3285.0</td>\n",
       "    </tr>\n",
       "  </tbody>\n",
       "</table>\n",
       "<p>1 rows × 21 columns</p>\n",
       "</div>"
      ],
      "text/plain": [
       "               salary  to_messages  deferral_payments  total_payments  \\\n",
       "BELFER ROBERT     NaN          NaN          -102500.0        102500.0   \n",
       "\n",
       "               loan_advances  bonus email_address  restricted_stock_deferred  \\\n",
       "BELFER ROBERT            NaN    NaN           NaN                    44093.0   \n",
       "\n",
       "               deferred_income  total_stock_value  ...  \\\n",
       "BELFER ROBERT              NaN           -44093.0  ...   \n",
       "\n",
       "               from_poi_to_this_person  exercised_stock_options  \\\n",
       "BELFER ROBERT                      NaN                   3285.0   \n",
       "\n",
       "               from_messages  other  from_this_person_to_poi    poi  \\\n",
       "BELFER ROBERT            NaN    NaN                      NaN  False   \n",
       "\n",
       "               long_term_incentive  shared_receipt_with_poi  restricted_stock  \\\n",
       "BELFER ROBERT                  NaN                      NaN               NaN   \n",
       "\n",
       "               director_fees  \n",
       "BELFER ROBERT         3285.0  \n",
       "\n",
       "[1 rows x 21 columns]"
      ]
     },
     "execution_count": 18,
     "metadata": {},
     "output_type": "execute_result"
    }
   ],
   "source": [
    "enron[enron['deferral_payments']<0]"
   ]
  },
  {
   "cell_type": "code",
   "execution_count": 19,
   "metadata": {},
   "outputs": [
    {
     "data": {
      "image/png": "[encoded data removed]",
      "text/plain": [
       "<Figure size 432x288 with 1 Axes>"
      ]
     },
     "metadata": {
      "needs_background": "light"
     },
     "output_type": "display_data"
    }
   ],
   "source": [
    "plt.hist(data=enron, x='total_payments', bins=30)\n",
    "plt.xlabel('tot pmts');"
   ]
  },
  {
   "cell_type": "code",
   "execution_count": 20,
   "metadata": {},
   "outputs": [
    {
     "data": {
      "image/png": "[encoded data removed]",
      "text/plain": [
       "<Figure size 432x288 with 1 Axes>"
      ]
     },
     "metadata": {
      "needs_background": "light"
     },
     "output_type": "display_data"
    }
   ],
   "source": [
    "bins = 10**np.arange(2,8.5,0.25)\n",
    "plt.hist(data=enron, x='total_payments', bins=bins)\n",
    "plt.xscale(\"log\")\n",
    "plt.xlabel(\"tot pmts\")\n",
    "new_tix = [1e2, 7.5e3, 5e4, 2e5, 7.5e5, 2e6, 1e7, 1.25e8]\n",
    "new_labs = ['{:.1e}'.format(v) for v in new_tix]\n",
    "plt.xticks(new_tix, new_labs, rotation=45);"
   ]
  },
  {
   "cell_type": "code",
   "execution_count": 21,
   "metadata": {},
   "outputs": [
    {
     "data": {
      "image/png": "[encoded data removed]",
      "text/plain": [
       "<Figure size 432x288 with 1 Axes>"
      ]
     },
     "metadata": {
      "needs_background": "light"
     },
     "output_type": "display_data"
    }
   ],
   "source": [
    "sb.boxplot(data=enron, x='poi', y='total_payments', color='brown')\n",
    "plt.ylabel('tot pmts')\n",
    "plt.xlabel('POI?');"
   ]
  },
  {
   "cell_type": "code",
   "execution_count": 22,
   "metadata": {},
   "outputs": [
    {
     "data": {
      "image/png": "[encoded data removed]",
      "text/plain": [
       "<Figure size 432x288 with 1 Axes>"
      ]
     },
     "metadata": {
      "needs_background": "light"
     },
     "output_type": "display_data"
    }
   ],
   "source": [
    "sb.boxplot(data=enron, x='poi', y='total_payments', color='brown')\n",
    "plt.ylim(1e3, 2e7)\n",
    "plt.ylabel('tot pmts')\n",
    "plt.xlabel('POI?');"
   ]
  },
  {
   "cell_type": "code",
   "execution_count": 23,
   "metadata": {},
   "outputs": [
    {
     "data": {
      "text/html": [
       "<div>\n",
       "<style scoped>\n",
       "    .dataframe tbody tr th:only-of-type {\n",
       "        vertical-align: middle;\n",
       "    }\n",
       "\n",
       "    .dataframe tbody tr th {\n",
       "        vertical-align: top;\n",
       "    }\n",
       "\n",
       "    .dataframe thead th {\n",
       "        text-align: right;\n",
       "    }\n",
       "</style>\n",
       "<table border=\"1\" class=\"dataframe\">\n",
       "  <thead>\n",
       "    <tr style=\"text-align: right;\">\n",
       "      <th></th>\n",
       "      <th>salary</th>\n",
       "      <th>to_messages</th>\n",
       "      <th>deferral_payments</th>\n",
       "      <th>total_payments</th>\n",
       "      <th>loan_advances</th>\n",
       "      <th>bonus</th>\n",
       "      <th>email_address</th>\n",
       "      <th>restricted_stock_deferred</th>\n",
       "      <th>deferred_income</th>\n",
       "      <th>total_stock_value</th>\n",
       "      <th>...</th>\n",
       "      <th>from_poi_to_this_person</th>\n",
       "      <th>exercised_stock_options</th>\n",
       "      <th>from_messages</th>\n",
       "      <th>other</th>\n",
       "      <th>from_this_person_to_poi</th>\n",
       "      <th>poi</th>\n",
       "      <th>long_term_incentive</th>\n",
       "      <th>shared_receipt_with_poi</th>\n",
       "      <th>restricted_stock</th>\n",
       "      <th>director_fees</th>\n",
       "    </tr>\n",
       "  </thead>\n",
       "  <tbody>\n",
       "    <tr>\n",
       "      <th>LAY KENNETH L</th>\n",
       "      <td>1072321.0</td>\n",
       "      <td>4273.0</td>\n",
       "      <td>202911.0</td>\n",
       "      <td>103559793.0</td>\n",
       "      <td>81525000.0</td>\n",
       "      <td>7000000.0</td>\n",
       "      <td>kenneth.lay@enron.com</td>\n",
       "      <td>NaN</td>\n",
       "      <td>-300000.0</td>\n",
       "      <td>49110078.0</td>\n",
       "      <td>...</td>\n",
       "      <td>123.0</td>\n",
       "      <td>34348384.0</td>\n",
       "      <td>36.0</td>\n",
       "      <td>10359729.0</td>\n",
       "      <td>16.0</td>\n",
       "      <td>True</td>\n",
       "      <td>3600000.0</td>\n",
       "      <td>2411.0</td>\n",
       "      <td>14761694.0</td>\n",
       "      <td>NaN</td>\n",
       "    </tr>\n",
       "  </tbody>\n",
       "</table>\n",
       "<p>1 rows × 21 columns</p>\n",
       "</div>"
      ],
      "text/plain": [
       "                  salary  to_messages  deferral_payments  total_payments  \\\n",
       "LAY KENNETH L  1072321.0       4273.0           202911.0     103559793.0   \n",
       "\n",
       "               loan_advances      bonus          email_address  \\\n",
       "LAY KENNETH L     81525000.0  7000000.0  kenneth.lay@enron.com   \n",
       "\n",
       "               restricted_stock_deferred  deferred_income  total_stock_value  \\\n",
       "LAY KENNETH L                        NaN        -300000.0         49110078.0   \n",
       "\n",
       "               ...  from_poi_to_this_person  exercised_stock_options  \\\n",
       "LAY KENNETH L  ...                    123.0               34348384.0   \n",
       "\n",
       "               from_messages       other  from_this_person_to_poi   poi  \\\n",
       "LAY KENNETH L           36.0  10359729.0                     16.0  True   \n",
       "\n",
       "               long_term_incentive  shared_receipt_with_poi  restricted_stock  \\\n",
       "LAY KENNETH L            3600000.0                   2411.0        14761694.0   \n",
       "\n",
       "               director_fees  \n",
       "LAY KENNETH L            NaN  \n",
       "\n",
       "[1 rows x 21 columns]"
      ]
     },
     "execution_count": 23,
     "metadata": {},
     "output_type": "execute_result"
    }
   ],
   "source": [
    "enron[enron['total_payments']>2e7]"
   ]
  },
  {
   "cell_type": "code",
   "execution_count": 24,
   "metadata": {},
   "outputs": [
    {
     "data": {
      "image/png": "[encoded data removed]",
      "text/plain": [
       "<Figure size 432x288 with 1 Axes>"
      ]
     },
     "metadata": {
      "needs_background": "light"
     },
     "output_type": "display_data"
    }
   ],
   "source": [
    "plt.hist(data=enron, x='bonus', bins=30)\n",
    "plt.xlabel('bonus');"
   ]
  },
  {
   "cell_type": "code",
   "execution_count": 25,
   "metadata": {},
   "outputs": [
    {
     "data": {
      "image/png": "[encoded data removed]",
      "text/plain": [
       "<Figure size 432x288 with 1 Axes>"
      ]
     },
     "metadata": {
      "needs_background": "light"
     },
     "output_type": "display_data"
    }
   ],
   "source": [
    "bins = 10**np.arange(4.5,7,0.125)\n",
    "plt.hist(data=enron, x='bonus', bins=bins)\n",
    "plt.xscale(\"log\")\n",
    "plt.xlabel(\"bonus\")\n",
    "new_tix = [5e4, 1e5, 5e5, 1e6, 5e6, 1e7]\n",
    "new_labs = ['{:.1e}'.format(v) for v in new_tix]\n",
    "plt.xticks(new_tix, new_labs, rotation=45);"
   ]
  },
  {
   "cell_type": "code",
   "execution_count": 26,
   "metadata": {},
   "outputs": [
    {
     "data": {
      "image/png": "[encoded data removed]",
      "text/plain": [
       "<Figure size 432x288 with 1 Axes>"
      ]
     },
     "metadata": {
      "needs_background": "light"
     },
     "output_type": "display_data"
    }
   ],
   "source": [
    "sb.boxplot(data=enron, x='poi', y='bonus', color='brown')\n",
    "plt.ylabel('bonus')\n",
    "plt.xlabel('POI?');"
   ]
  },
  {
   "cell_type": "code",
   "execution_count": 27,
   "metadata": {},
   "outputs": [
    {
     "data": {
      "image/png": "[encoded data removed]",
      "text/plain": [
       "<Figure size 432x288 with 1 Axes>"
      ]
     },
     "metadata": {
      "needs_background": "light"
     },
     "output_type": "display_data"
    }
   ],
   "source": [
    "sb.scatterplot(data=enron, x='salary', y='bonus', hue='poi');"
   ]
  },
  {
   "cell_type": "code",
   "execution_count": 28,
   "metadata": {},
   "outputs": [
    {
     "data": {
      "image/png": "[encoded data removed]",
      "text/plain": [
       "<Figure size 432x288 with 1 Axes>"
      ]
     },
     "metadata": {
      "needs_background": "light"
     },
     "output_type": "display_data"
    }
   ],
   "source": [
    "plt.hist(data=enron, x='total_stock_value', bins=30)\n",
    "plt.xlabel('tot stock value');"
   ]
  },
  {
   "cell_type": "code",
   "execution_count": 29,
   "metadata": {},
   "outputs": [
    {
     "data": {
      "text/html": [
       "<div>\n",
       "<style scoped>\n",
       "    .dataframe tbody tr th:only-of-type {\n",
       "        vertical-align: middle;\n",
       "    }\n",
       "\n",
       "    .dataframe tbody tr th {\n",
       "        vertical-align: top;\n",
       "    }\n",
       "\n",
       "    .dataframe thead th {\n",
       "        text-align: right;\n",
       "    }\n",
       "</style>\n",
       "<table border=\"1\" class=\"dataframe\">\n",
       "  <thead>\n",
       "    <tr style=\"text-align: right;\">\n",
       "      <th></th>\n",
       "      <th>salary</th>\n",
       "      <th>to_messages</th>\n",
       "      <th>deferral_payments</th>\n",
       "      <th>total_payments</th>\n",
       "      <th>loan_advances</th>\n",
       "      <th>bonus</th>\n",
       "      <th>email_address</th>\n",
       "      <th>restricted_stock_deferred</th>\n",
       "      <th>deferred_income</th>\n",
       "      <th>total_stock_value</th>\n",
       "      <th>...</th>\n",
       "      <th>from_poi_to_this_person</th>\n",
       "      <th>exercised_stock_options</th>\n",
       "      <th>from_messages</th>\n",
       "      <th>other</th>\n",
       "      <th>from_this_person_to_poi</th>\n",
       "      <th>poi</th>\n",
       "      <th>long_term_incentive</th>\n",
       "      <th>shared_receipt_with_poi</th>\n",
       "      <th>restricted_stock</th>\n",
       "      <th>director_fees</th>\n",
       "    </tr>\n",
       "  </thead>\n",
       "  <tbody>\n",
       "    <tr>\n",
       "      <th>BELFER ROBERT</th>\n",
       "      <td>NaN</td>\n",
       "      <td>NaN</td>\n",
       "      <td>-102500.0</td>\n",
       "      <td>102500.0</td>\n",
       "      <td>NaN</td>\n",
       "      <td>NaN</td>\n",
       "      <td>NaN</td>\n",
       "      <td>44093.0</td>\n",
       "      <td>NaN</td>\n",
       "      <td>-44093.0</td>\n",
       "      <td>...</td>\n",
       "      <td>NaN</td>\n",
       "      <td>3285.0</td>\n",
       "      <td>NaN</td>\n",
       "      <td>NaN</td>\n",
       "      <td>NaN</td>\n",
       "      <td>False</td>\n",
       "      <td>NaN</td>\n",
       "      <td>NaN</td>\n",
       "      <td>NaN</td>\n",
       "      <td>3285.0</td>\n",
       "    </tr>\n",
       "  </tbody>\n",
       "</table>\n",
       "<p>1 rows × 21 columns</p>\n",
       "</div>"
      ],
      "text/plain": [
       "               salary  to_messages  deferral_payments  total_payments  \\\n",
       "BELFER ROBERT     NaN          NaN          -102500.0        102500.0   \n",
       "\n",
       "               loan_advances  bonus email_address  restricted_stock_deferred  \\\n",
       "BELFER ROBERT            NaN    NaN           NaN                    44093.0   \n",
       "\n",
       "               deferred_income  total_stock_value  ...  \\\n",
       "BELFER ROBERT              NaN           -44093.0  ...   \n",
       "\n",
       "               from_poi_to_this_person  exercised_stock_options  \\\n",
       "BELFER ROBERT                      NaN                   3285.0   \n",
       "\n",
       "               from_messages  other  from_this_person_to_poi    poi  \\\n",
       "BELFER ROBERT            NaN    NaN                      NaN  False   \n",
       "\n",
       "               long_term_incentive  shared_receipt_with_poi  restricted_stock  \\\n",
       "BELFER ROBERT                  NaN                      NaN               NaN   \n",
       "\n",
       "               director_fees  \n",
       "BELFER ROBERT         3285.0  \n",
       "\n",
       "[1 rows x 21 columns]"
      ]
     },
     "execution_count": 29,
     "metadata": {},
     "output_type": "execute_result"
    }
   ],
   "source": [
    "enron[enron['total_stock_value']<0]"
   ]
  },
  {
   "cell_type": "markdown",
   "metadata": {},
   "source": [
    "Stock/tot pmts might be more reflective on how income dep on stock but eg Lay is massive outlier in tot pmts due to $80M loan, so will look at stock/salary instead"
   ]
  },
  {
   "cell_type": "code",
   "execution_count": 30,
   "metadata": {},
   "outputs": [],
   "source": [
    "enron['stock/sal']=enron['total_stock_value']/enron['salary']"
   ]
  },
  {
   "cell_type": "code",
   "execution_count": 31,
   "metadata": {},
   "outputs": [
    {
     "data": {
      "image/png": "[encoded data removed]",
      "text/plain": [
       "<Figure size 432x288 with 1 Axes>"
      ]
     },
     "metadata": {
      "needs_background": "light"
     },
     "output_type": "display_data"
    }
   ],
   "source": [
    "sb.boxplot(data=enron, x='poi', y='stock/sal', color='brown')\n",
    "plt.ylabel('stock/sal')\n",
    "plt.xlabel('POI?');"
   ]
  },
  {
   "cell_type": "code",
   "execution_count": 32,
   "metadata": {},
   "outputs": [
    {
     "data": {
      "image/png": "[encoded data removed]",
      "text/plain": [
       "<Figure size 432x288 with 1 Axes>"
      ]
     },
     "metadata": {
      "needs_background": "light"
     },
     "output_type": "display_data"
    }
   ],
   "source": [
    "sb.boxplot(data=enron, x='poi', y='stock/sal', color='brown')\n",
    "plt.ylim(0,200)\n",
    "plt.ylabel('stock/sal')\n",
    "plt.xlabel('POI?');"
   ]
  },
  {
   "cell_type": "code",
   "execution_count": 33,
   "metadata": {},
   "outputs": [
    {
     "data": {
      "image/png": "[encoded data removed]",
      "text/plain": [
       "<Figure size 432x288 with 1 Axes>"
      ]
     },
     "metadata": {
      "needs_background": "light"
     },
     "output_type": "display_data"
    }
   ],
   "source": [
    "bins = 10**np.arange(4,8,0.2)\n",
    "plt.hist(data=enron, x='total_stock_value', bins=bins)\n",
    "plt.xscale(\"log\")\n",
    "plt.xlabel(\"tot stock value\")\n",
    "new_tix = [1e4, 5e4, 1e5, 5e5, 1e6, 5e6, 1e7, 5e7]\n",
    "new_labs = ['{:.1e}'.format(v) for v in new_tix]\n",
    "plt.xticks(new_tix, new_labs, rotation=45);"
   ]
  },
  {
   "cell_type": "code",
   "execution_count": 34,
   "metadata": {},
   "outputs": [
    {
     "data": {
      "image/png": "[encoded data removed]",
      "text/plain": [
       "<Figure size 432x288 with 1 Axes>"
      ]
     },
     "metadata": {
      "needs_background": "light"
     },
     "output_type": "display_data"
    }
   ],
   "source": [
    "sb.boxplot(data=enron, x='poi', y='total_stock_value', color='brown')\n",
    "plt.ylabel('tot stock value')\n",
    "plt.xlabel('POI?');"
   ]
  },
  {
   "cell_type": "code",
   "execution_count": 35,
   "metadata": {},
   "outputs": [
    {
     "data": {
      "image/png": "[encoded data removed]",
      "text/plain": [
       "<Figure size 432x288 with 1 Axes>"
      ]
     },
     "metadata": {
      "needs_background": "light"
     },
     "output_type": "display_data"
    }
   ],
   "source": [
    "plt.hist(data=enron, x='expenses', bins=20)\n",
    "plt.xlabel('expenses');"
   ]
  },
  {
   "cell_type": "code",
   "execution_count": 36,
   "metadata": {},
   "outputs": [
    {
     "data": {
      "image/png": "[encoded data removed]",
      "text/plain": [
       "<Figure size 432x288 with 1 Axes>"
      ]
     },
     "metadata": {
      "needs_background": "light"
     },
     "output_type": "display_data"
    }
   ],
   "source": [
    "sb.boxplot(data=enron, x='poi', y='expenses', color='brown')\n",
    "plt.ylabel('expenses')\n",
    "plt.xlabel('POI?');"
   ]
  },
  {
   "cell_type": "code",
   "execution_count": 37,
   "metadata": {},
   "outputs": [
    {
     "data": {
      "image/png": "[encoded data removed]",
      "text/plain": [
       "<Figure size 432x288 with 1 Axes>"
      ]
     },
     "metadata": {
      "needs_background": "light"
     },
     "output_type": "display_data"
    }
   ],
   "source": [
    "plt.hist(data=enron, x='exercised_stock_options', bins=20)\n",
    "plt.xlabel('exerc stock opts');"
   ]
  },
  {
   "cell_type": "code",
   "execution_count": 38,
   "metadata": {},
   "outputs": [
    {
     "data": {
      "image/png": "[encoded data removed]",
      "text/plain": [
       "<Figure size 432x288 with 1 Axes>"
      ]
     },
     "metadata": {
      "needs_background": "light"
     },
     "output_type": "display_data"
    }
   ],
   "source": [
    "bins = 10**np.arange(3.5,7.5,0.125)\n",
    "plt.hist(data=enron, x='exercised_stock_options', bins=bins)\n",
    "plt.xscale(\"log\")\n",
    "plt.xlabel(\"exerc stock opts\")\n",
    "new_tix = [1e4, 5e4, 1e5, 5e5, 1e6, 5e6, 1e7, 5e7]\n",
    "new_labs = ['{:.1e}'.format(v) for v in new_tix]\n",
    "plt.xticks(new_tix, new_labs, rotation=45);"
   ]
  },
  {
   "cell_type": "code",
   "execution_count": 39,
   "metadata": {},
   "outputs": [
    {
     "data": {
      "image/png": "[encoded data removed]",
      "text/plain": [
       "<Figure size 432x288 with 1 Axes>"
      ]
     },
     "metadata": {
      "needs_background": "light"
     },
     "output_type": "display_data"
    }
   ],
   "source": [
    "sb.boxplot(data=enron, x='poi', y='exercised_stock_options', color='brown')\n",
    "plt.ylabel('exerc stock opts')\n",
    "plt.xlabel('POI?');"
   ]
  },
  {
   "cell_type": "code",
   "execution_count": 40,
   "metadata": {},
   "outputs": [
    {
     "data": {
      "image/png": "[encoded data removed]",
      "text/plain": [
       "<Figure size 432x288 with 1 Axes>"
      ]
     },
     "metadata": {
      "needs_background": "light"
     },
     "output_type": "display_data"
    }
   ],
   "source": [
    "sb.scatterplot(data=enron, x='exercised_stock_options', y='total_stock_value', hue='poi');"
   ]
  },
  {
   "cell_type": "code",
   "execution_count": 41,
   "metadata": {},
   "outputs": [
    {
     "data": {
      "image/png": "[encoded data removed]",
      "text/plain": [
       "<Figure size 432x288 with 1 Axes>"
      ]
     },
     "metadata": {
      "needs_background": "light"
     },
     "output_type": "display_data"
    }
   ],
   "source": [
    "plt.hist(data=enron, x='other', bins=20)\n",
    "plt.xlabel('other');"
   ]
  },
  {
   "cell_type": "code",
   "execution_count": 42,
   "metadata": {},
   "outputs": [
    {
     "data": {
      "image/png": "[encoded data removed]",
      "text/plain": [
       "<Figure size 432x288 with 1 Axes>"
      ]
     },
     "metadata": {
      "needs_background": "light"
     },
     "output_type": "display_data"
    }
   ],
   "source": [
    "bins = 10**np.arange(2,7.25,0.125)\n",
    "plt.hist(data=enron, x='other', bins=bins)\n",
    "plt.xscale(\"log\")\n",
    "plt.xlabel(\"other\")\n",
    "new_tix = [1e3, 1e4, 5e4, 1e5, 5e5, 1e6, 5e6, 1e7]\n",
    "new_labs = ['{:.1e}'.format(v) for v in new_tix]\n",
    "plt.xticks(new_tix, new_labs, rotation=45);"
   ]
  },
  {
   "cell_type": "code",
   "execution_count": 43,
   "metadata": {},
   "outputs": [
    {
     "data": {
      "image/png": "[encoded data removed]",
      "text/plain": [
       "<Figure size 432x288 with 1 Axes>"
      ]
     },
     "metadata": {
      "needs_background": "light"
     },
     "output_type": "display_data"
    }
   ],
   "source": [
    "sb.boxplot(data=enron, x='poi', y='other', color='brown')\n",
    "plt.ylabel('other')\n",
    "plt.xlabel('POI?');"
   ]
  },
  {
   "cell_type": "code",
   "execution_count": 44,
   "metadata": {},
   "outputs": [
    {
     "data": {
      "image/png": "[encoded data removed]",
      "text/plain": [
       "<Figure size 432x288 with 1 Axes>"
      ]
     },
     "metadata": {
      "needs_background": "light"
     },
     "output_type": "display_data"
    }
   ],
   "source": [
    "plt.hist(data=enron, x='long_term_incentive', bins=20)\n",
    "plt.xlabel('long-term incentive');"
   ]
  },
  {
   "cell_type": "code",
   "execution_count": 45,
   "metadata": {},
   "outputs": [
    {
     "data": {
      "image/png": "[encoded data removed]",
      "text/plain": [
       "<Figure size 432x288 with 1 Axes>"
      ]
     },
     "metadata": {
      "needs_background": "light"
     },
     "output_type": "display_data"
    }
   ],
   "source": [
    "bins = 10**np.arange(4.7,7,0.069)\n",
    "plt.hist(data=enron, x='long_term_incentive', bins=bins)\n",
    "plt.xscale(\"log\")\n",
    "plt.xlabel(\"long-term incentive\")\n",
    "new_tix = [5e4, 1e5, 5e5, 1e6, 5e6]\n",
    "new_labs = ['{:.1e}'.format(v) for v in new_tix]\n",
    "plt.xticks(new_tix, new_labs, rotation=45);"
   ]
  },
  {
   "cell_type": "code",
   "execution_count": 46,
   "metadata": {},
   "outputs": [
    {
     "data": {
      "image/png": "[encoded data removed]",
      "text/plain": [
       "<Figure size 432x288 with 1 Axes>"
      ]
     },
     "metadata": {
      "needs_background": "light"
     },
     "output_type": "display_data"
    }
   ],
   "source": [
    "sb.boxplot(data=enron, x='poi', y='long_term_incentive', color='brown')\n",
    "plt.ylabel('long-term incentive')\n",
    "plt.xlabel('POI?');"
   ]
  },
  {
   "cell_type": "markdown",
   "metadata": {},
   "source": [
    "Holding lots of stock and having a big long-term incentive would both be incentives to keep Co afloat & stock price up, which seems to have driven a lot of the shady dealings"
   ]
  },
  {
   "cell_type": "code",
   "execution_count": 47,
   "metadata": {},
   "outputs": [],
   "source": [
    "enron['stock+lti']=enron['total_stock_value']+enron['long_term_incentive']"
   ]
  },
  {
   "cell_type": "code",
   "execution_count": 48,
   "metadata": {},
   "outputs": [
    {
     "data": {
      "image/png": "[encoded data removed]",
      "text/plain": [
       "<Figure size 432x288 with 1 Axes>"
      ]
     },
     "metadata": {
      "needs_background": "light"
     },
     "output_type": "display_data"
    }
   ],
   "source": [
    "sb.boxplot(data=enron, x='poi', y='stock+lti', color='brown')\n",
    "plt.ylabel('stock+lti')\n",
    "plt.xlabel('POI?');"
   ]
  },
  {
   "cell_type": "code",
   "execution_count": 49,
   "metadata": {},
   "outputs": [],
   "source": [
    "enron['stock+lti/sal']=enron['stock+lti']/enron['salary']"
   ]
  },
  {
   "cell_type": "code",
   "execution_count": 50,
   "metadata": {},
   "outputs": [
    {
     "data": {
      "image/png": "[encoded data removed]",
      "text/plain": [
       "<Figure size 432x288 with 1 Axes>"
      ]
     },
     "metadata": {
      "needs_background": "light"
     },
     "output_type": "display_data"
    }
   ],
   "source": [
    "sb.boxplot(data=enron, x='poi', y='stock+lti/sal', color='brown')\n",
    "plt.ylabel('stock+lti/sal')\n",
    "plt.xlabel('POI?');"
   ]
  },
  {
   "cell_type": "code",
   "execution_count": 51,
   "metadata": {},
   "outputs": [
    {
     "data": {
      "image/png": "[encoded data removed]",
      "text/plain": [
       "<Figure size 432x288 with 1 Axes>"
      ]
     },
     "metadata": {
      "needs_background": "light"
     },
     "output_type": "display_data"
    }
   ],
   "source": [
    "plt.hist(data=enron, x='restricted_stock', bins=20)\n",
    "plt.xlabel('restricted stock');"
   ]
  },
  {
   "cell_type": "code",
   "execution_count": 52,
   "metadata": {},
   "outputs": [
    {
     "data": {
      "text/html": [
       "<div>\n",
       "<style scoped>\n",
       "    .dataframe tbody tr th:only-of-type {\n",
       "        vertical-align: middle;\n",
       "    }\n",
       "\n",
       "    .dataframe tbody tr th {\n",
       "        vertical-align: top;\n",
       "    }\n",
       "\n",
       "    .dataframe thead th {\n",
       "        text-align: right;\n",
       "    }\n",
       "</style>\n",
       "<table border=\"1\" class=\"dataframe\">\n",
       "  <thead>\n",
       "    <tr style=\"text-align: right;\">\n",
       "      <th></th>\n",
       "      <th>salary</th>\n",
       "      <th>to_messages</th>\n",
       "      <th>deferral_payments</th>\n",
       "      <th>total_payments</th>\n",
       "      <th>loan_advances</th>\n",
       "      <th>bonus</th>\n",
       "      <th>email_address</th>\n",
       "      <th>restricted_stock_deferred</th>\n",
       "      <th>deferred_income</th>\n",
       "      <th>total_stock_value</th>\n",
       "      <th>...</th>\n",
       "      <th>other</th>\n",
       "      <th>from_this_person_to_poi</th>\n",
       "      <th>poi</th>\n",
       "      <th>long_term_incentive</th>\n",
       "      <th>shared_receipt_with_poi</th>\n",
       "      <th>restricted_stock</th>\n",
       "      <th>director_fees</th>\n",
       "      <th>stock/sal</th>\n",
       "      <th>stock+lti</th>\n",
       "      <th>stock+lti/sal</th>\n",
       "    </tr>\n",
       "  </thead>\n",
       "  <tbody>\n",
       "    <tr>\n",
       "      <th>BHATNAGAR SANJAY</th>\n",
       "      <td>NaN</td>\n",
       "      <td>523.0</td>\n",
       "      <td>NaN</td>\n",
       "      <td>15456290.0</td>\n",
       "      <td>NaN</td>\n",
       "      <td>NaN</td>\n",
       "      <td>sanjay.bhatnagar@enron.com</td>\n",
       "      <td>15456290.0</td>\n",
       "      <td>NaN</td>\n",
       "      <td>NaN</td>\n",
       "      <td>...</td>\n",
       "      <td>137864.0</td>\n",
       "      <td>1.0</td>\n",
       "      <td>False</td>\n",
       "      <td>NaN</td>\n",
       "      <td>463.0</td>\n",
       "      <td>-2604490.0</td>\n",
       "      <td>137864.0</td>\n",
       "      <td>NaN</td>\n",
       "      <td>NaN</td>\n",
       "      <td>NaN</td>\n",
       "    </tr>\n",
       "  </tbody>\n",
       "</table>\n",
       "<p>1 rows × 24 columns</p>\n",
       "</div>"
      ],
      "text/plain": [
       "                  salary  to_messages  deferral_payments  total_payments  \\\n",
       "BHATNAGAR SANJAY     NaN        523.0                NaN      15456290.0   \n",
       "\n",
       "                  loan_advances  bonus               email_address  \\\n",
       "BHATNAGAR SANJAY            NaN    NaN  sanjay.bhatnagar@enron.com   \n",
       "\n",
       "                  restricted_stock_deferred  deferred_income  \\\n",
       "BHATNAGAR SANJAY                 15456290.0              NaN   \n",
       "\n",
       "                  total_stock_value  ...     other  from_this_person_to_poi  \\\n",
       "BHATNAGAR SANJAY                NaN  ...  137864.0                      1.0   \n",
       "\n",
       "                    poi  long_term_incentive  shared_receipt_with_poi  \\\n",
       "BHATNAGAR SANJAY  False                  NaN                    463.0   \n",
       "\n",
       "                  restricted_stock  director_fees  stock/sal  stock+lti  \\\n",
       "BHATNAGAR SANJAY        -2604490.0       137864.0        NaN        NaN   \n",
       "\n",
       "                  stock+lti/sal  \n",
       "BHATNAGAR SANJAY            NaN  \n",
       "\n",
       "[1 rows x 24 columns]"
      ]
     },
     "execution_count": 52,
     "metadata": {},
     "output_type": "execute_result"
    }
   ],
   "source": [
    "enron[enron['restricted_stock']<0]"
   ]
  },
  {
   "cell_type": "code",
   "execution_count": 53,
   "metadata": {},
   "outputs": [
    {
     "data": {
      "image/png": "[encoded data removed]",
      "text/plain": [
       "<Figure size 432x288 with 1 Axes>"
      ]
     },
     "metadata": {
      "needs_background": "light"
     },
     "output_type": "display_data"
    }
   ],
   "source": [
    "bins = 10**np.arange(5.2,7.4,0.066)\n",
    "plt.hist(data=enron, x='restricted_stock', bins=bins)\n",
    "plt.xscale(\"log\")\n",
    "plt.xlabel(\"restricted stock\")\n",
    "new_tix = [1e5, 5e5, 1e6, 5e6, 1e7, 2e7]\n",
    "new_labs = ['{:.1e}'.format(v) for v in new_tix]\n",
    "plt.xticks(new_tix, new_labs, rotation=45);"
   ]
  },
  {
   "cell_type": "code",
   "execution_count": 54,
   "metadata": {},
   "outputs": [
    {
     "data": {
      "image/png": "[encoded data removed]",
      "text/plain": [
       "<Figure size 432x288 with 1 Axes>"
      ]
     },
     "metadata": {
      "needs_background": "light"
     },
     "output_type": "display_data"
    }
   ],
   "source": [
    "sb.boxplot(data=enron, x='poi', y='restricted_stock', color='brown')\n",
    "plt.ylabel('restricted stock')\n",
    "plt.xlabel('POI?');"
   ]
  },
  {
   "cell_type": "code",
   "execution_count": 55,
   "metadata": {},
   "outputs": [
    {
     "data": {
      "image/png": "[encoded data removed]",
      "text/plain": [
       "<Figure size 432x288 with 1 Axes>"
      ]
     },
     "metadata": {
      "needs_background": "light"
     },
     "output_type": "display_data"
    }
   ],
   "source": [
    "sb.boxplot(data=enron, x='poi', y='to_messages', color='brown')\n",
    "plt.ylabel(\"rec'd msgs\")\n",
    "plt.xlabel('POI?');"
   ]
  },
  {
   "cell_type": "code",
   "execution_count": 56,
   "metadata": {},
   "outputs": [
    {
     "data": {
      "image/png": "[encoded data removed]",
      "text/plain": [
       "<Figure size 432x288 with 1 Axes>"
      ]
     },
     "metadata": {
      "needs_background": "light"
     },
     "output_type": "display_data"
    }
   ],
   "source": [
    "sb.boxplot(data=enron, x='poi', y='from_poi_to_this_person', color='brown')\n",
    "plt.ylabel(\"rec'd msgs from poi\")\n",
    "plt.xlabel('POI?');"
   ]
  },
  {
   "cell_type": "code",
   "execution_count": 57,
   "metadata": {},
   "outputs": [],
   "source": [
    "enron['pct_from_poi'] = enron['from_poi_to_this_person']/enron['to_messages']"
   ]
  },
  {
   "cell_type": "code",
   "execution_count": 58,
   "metadata": {},
   "outputs": [
    {
     "data": {
      "image/png": "[encoded data removed]",
      "text/plain": [
       "<Figure size 432x288 with 1 Axes>"
      ]
     },
     "metadata": {
      "needs_background": "light"
     },
     "output_type": "display_data"
    }
   ],
   "source": [
    "sb.boxplot(data=enron, x='poi', y='pct_from_poi', color='brown')\n",
    "plt.ylabel(\"% msgs from poi\")\n",
    "plt.xlabel('POI?');"
   ]
  },
  {
   "cell_type": "code",
   "execution_count": 59,
   "metadata": {},
   "outputs": [
    {
     "data": {
      "image/png": "[encoded data removed]",
      "text/plain": [
       "<Figure size 432x288 with 1 Axes>"
      ]
     },
     "metadata": {
      "needs_background": "light"
     },
     "output_type": "display_data"
    }
   ],
   "source": [
    "sb.boxplot(data=enron, x='poi', y='from_messages', color='brown')\n",
    "plt.ylabel(\"sent msgs\")\n",
    "plt.xlabel('POI?');"
   ]
  },
  {
   "cell_type": "code",
   "execution_count": 60,
   "metadata": {},
   "outputs": [
    {
     "data": {
      "image/png": "[encoded data removed]",
      "text/plain": [
       "<Figure size 432x288 with 1 Axes>"
      ]
     },
     "metadata": {
      "needs_background": "light"
     },
     "output_type": "display_data"
    }
   ],
   "source": [
    "sb.boxplot(data=enron, x='poi', y='from_this_person_to_poi', color='brown')\n",
    "plt.ylabel(\"msgs to POI\")\n",
    "plt.xlabel('POI?');"
   ]
  },
  {
   "cell_type": "code",
   "execution_count": 61,
   "metadata": {},
   "outputs": [],
   "source": [
    "enron['pct_to_poi'] = enron['from_this_person_to_poi']/enron['from_messages']"
   ]
  },
  {
   "cell_type": "code",
   "execution_count": 62,
   "metadata": {},
   "outputs": [
    {
     "data": {
      "image/png": "[encoded data removed]",
      "text/plain": [
       "<Figure size 432x288 with 1 Axes>"
      ]
     },
     "metadata": {
      "needs_background": "light"
     },
     "output_type": "display_data"
    }
   ],
   "source": [
    "sb.boxplot(data=enron, x='poi', y='pct_to_poi', color='brown')\n",
    "plt.ylabel(\"% msgs to poi\")\n",
    "plt.xlabel('POI?');"
   ]
  },
  {
   "cell_type": "code",
   "execution_count": 63,
   "metadata": {},
   "outputs": [
    {
     "data": {
      "image/png": "[encoded data removed]",
      "text/plain": [
       "<Figure size 432x288 with 1 Axes>"
      ]
     },
     "metadata": {
      "needs_background": "light"
     },
     "output_type": "display_data"
    }
   ],
   "source": [
    "sb.boxplot(data=enron, x='poi', y='shared_receipt_with_poi', color='brown')\n",
    "plt.ylabel(\"msgs shared receipt with POI\")\n",
    "plt.xlabel('POI?');"
   ]
  },
  {
   "cell_type": "code",
   "execution_count": 64,
   "metadata": {},
   "outputs": [],
   "source": [
    "enron['pct_shared_receipt'] = enron['shared_receipt_with_poi']/enron['to_messages']"
   ]
  },
  {
   "cell_type": "code",
   "execution_count": 65,
   "metadata": {},
   "outputs": [
    {
     "data": {
      "image/png": "[encoded data removed]",
      "text/plain": [
       "<Figure size 432x288 with 1 Axes>"
      ]
     },
     "metadata": {
      "needs_background": "light"
     },
     "output_type": "display_data"
    }
   ],
   "source": [
    "sb.boxplot(data=enron, x='poi', y='pct_shared_receipt', color='brown')\n",
    "plt.ylabel(\"pct msgs shared receipt with POI\")\n",
    "plt.xlabel('POI?');"
   ]
  },
  {
   "cell_type": "markdown",
   "metadata": {},
   "source": [
    "The intrinsic features that appear to be most related to POI status are:\n",
    "- `salary`\n",
    "- `total_payments`\n",
    "- `bonus`\n",
    "\n",
    "The derived features that I created that seem most promising are:\n",
    "- `stock+lti` (sum of total stock value and long-term incentives)\n",
    "- `pct_to_poi` (% of a person's emails that are addresed to a POI)\n",
    "- `pct_shared_receipt` (% of a person's emails for which they're on a recipient list with a POI)"
   ]
  },
  {
   "cell_type": "code",
   "execution_count": 66,
   "metadata": {},
   "outputs": [
    {
     "data": {
      "text/html": [
       "<div>\n",
       "<style scoped>\n",
       "    .dataframe tbody tr th:only-of-type {\n",
       "        vertical-align: middle;\n",
       "    }\n",
       "\n",
       "    .dataframe tbody tr th {\n",
       "        vertical-align: top;\n",
       "    }\n",
       "\n",
       "    .dataframe thead th {\n",
       "        text-align: right;\n",
       "    }\n",
       "</style>\n",
       "<table border=\"1\" class=\"dataframe\">\n",
       "  <thead>\n",
       "    <tr style=\"text-align: right;\">\n",
       "      <th></th>\n",
       "      <th>salary</th>\n",
       "      <th>total_payments</th>\n",
       "      <th>bonus</th>\n",
       "      <th>stock+lti</th>\n",
       "      <th>pct_to_poi</th>\n",
       "      <th>pct_shared_receipt</th>\n",
       "      <th>poi</th>\n",
       "    </tr>\n",
       "  </thead>\n",
       "  <tbody>\n",
       "    <tr>\n",
       "      <th>METTS MARK</th>\n",
       "      <td>365788.0</td>\n",
       "      <td>1061827.0</td>\n",
       "      <td>600000.0</td>\n",
       "      <td>NaN</td>\n",
       "      <td>0.034483</td>\n",
       "      <td>0.869888</td>\n",
       "      <td>False</td>\n",
       "    </tr>\n",
       "    <tr>\n",
       "      <th>BAXTER JOHN C</th>\n",
       "      <td>267102.0</td>\n",
       "      <td>5634343.0</td>\n",
       "      <td>1200000.0</td>\n",
       "      <td>12209313.0</td>\n",
       "      <td>NaN</td>\n",
       "      <td>NaN</td>\n",
       "      <td>False</td>\n",
       "    </tr>\n",
       "    <tr>\n",
       "      <th>ELLIOTT STEVEN</th>\n",
       "      <td>170941.0</td>\n",
       "      <td>211725.0</td>\n",
       "      <td>350000.0</td>\n",
       "      <td>NaN</td>\n",
       "      <td>NaN</td>\n",
       "      <td>NaN</td>\n",
       "      <td>False</td>\n",
       "    </tr>\n",
       "    <tr>\n",
       "      <th>CORDES WILLIAM R</th>\n",
       "      <td>NaN</td>\n",
       "      <td>NaN</td>\n",
       "      <td>NaN</td>\n",
       "      <td>NaN</td>\n",
       "      <td>0.000000</td>\n",
       "      <td>0.075916</td>\n",
       "      <td>False</td>\n",
       "    </tr>\n",
       "    <tr>\n",
       "      <th>HANNON KEVIN P</th>\n",
       "      <td>243293.0</td>\n",
       "      <td>288682.0</td>\n",
       "      <td>1500000.0</td>\n",
       "      <td>8008076.0</td>\n",
       "      <td>0.656250</td>\n",
       "      <td>0.990431</td>\n",
       "      <td>True</td>\n",
       "    </tr>\n",
       "  </tbody>\n",
       "</table>\n",
       "</div>"
      ],
      "text/plain": [
       "                    salary  total_payments      bonus   stock+lti  pct_to_poi  \\\n",
       "METTS MARK        365788.0       1061827.0   600000.0         NaN    0.034483   \n",
       "BAXTER JOHN C     267102.0       5634343.0  1200000.0  12209313.0         NaN   \n",
       "ELLIOTT STEVEN    170941.0        211725.0   350000.0         NaN         NaN   \n",
       "CORDES WILLIAM R       NaN             NaN        NaN         NaN    0.000000   \n",
       "HANNON KEVIN P    243293.0        288682.0  1500000.0   8008076.0    0.656250   \n",
       "\n",
       "                  pct_shared_receipt    poi  \n",
       "METTS MARK                  0.869888  False  \n",
       "BAXTER JOHN C                    NaN  False  \n",
       "ELLIOTT STEVEN                   NaN  False  \n",
       "CORDES WILLIAM R            0.075916  False  \n",
       "HANNON KEVIN P              0.990431   True  "
      ]
     },
     "execution_count": 66,
     "metadata": {},
     "output_type": "execute_result"
    }
   ],
   "source": [
    "# keep the fields of interest\n",
    "keep_list = ['salary', 'total_payments', 'bonus', 'stock+lti', 'pct_to_poi', 'pct_shared_receipt', 'poi']\n",
    "enron2 = enron[keep_list]\n",
    "enron2.head()"
   ]
  },
  {
   "cell_type": "markdown",
   "metadata": {},
   "source": [
    "sklearn will choke on NaNs. since dataset is so small, don't think imputation makes sense, so will drop entries missing data for cols of interest"
   ]
  },
  {
   "cell_type": "code",
   "execution_count": 67,
   "metadata": {},
   "outputs": [
    {
     "name": "stderr",
     "output_type": "stream",
     "text": [
      "<ipython-input-67-35d6f6851eaf>:2: SettingWithCopyWarning: \n",
      "A value is trying to be set on a copy of a slice from a DataFrame\n",
      "\n",
      "See the caveats in the documentation: https://pandas.pydata.org/pandas-docs/stable/user_guide/indexing.html#returning-a-view-versus-a-copy\n",
      "  enron2.dropna(inplace=True)\n"
     ]
    },
    {
     "data": {
      "text/html": [
       "<div>\n",
       "<style scoped>\n",
       "    .dataframe tbody tr th:only-of-type {\n",
       "        vertical-align: middle;\n",
       "    }\n",
       "\n",
       "    .dataframe tbody tr th {\n",
       "        vertical-align: top;\n",
       "    }\n",
       "\n",
       "    .dataframe thead th {\n",
       "        text-align: right;\n",
       "    }\n",
       "</style>\n",
       "<table border=\"1\" class=\"dataframe\">\n",
       "  <thead>\n",
       "    <tr style=\"text-align: right;\">\n",
       "      <th></th>\n",
       "      <th>salary</th>\n",
       "      <th>total_payments</th>\n",
       "      <th>bonus</th>\n",
       "      <th>stock+lti</th>\n",
       "      <th>pct_to_poi</th>\n",
       "      <th>pct_shared_receipt</th>\n",
       "      <th>poi</th>\n",
       "    </tr>\n",
       "  </thead>\n",
       "  <tbody>\n",
       "    <tr>\n",
       "      <th>HANNON KEVIN P</th>\n",
       "      <td>243293.0</td>\n",
       "      <td>288682.0</td>\n",
       "      <td>1500000.0</td>\n",
       "      <td>8008076.0</td>\n",
       "      <td>0.656250</td>\n",
       "      <td>0.990431</td>\n",
       "      <td>True</td>\n",
       "    </tr>\n",
       "    <tr>\n",
       "      <th>MCMAHON JEFFREY</th>\n",
       "      <td>370448.0</td>\n",
       "      <td>4099771.0</td>\n",
       "      <td>2600000.0</td>\n",
       "      <td>2357717.0</td>\n",
       "      <td>0.541667</td>\n",
       "      <td>0.946072</td>\n",
       "      <td>False</td>\n",
       "    </tr>\n",
       "    <tr>\n",
       "      <th>HAEDICKE MARK E</th>\n",
       "      <td>374125.0</td>\n",
       "      <td>3859065.0</td>\n",
       "      <td>1150000.0</td>\n",
       "      <td>1786440.0</td>\n",
       "      <td>0.031427</td>\n",
       "      <td>0.460713</td>\n",
       "      <td>False</td>\n",
       "    </tr>\n",
       "    <tr>\n",
       "      <th>BLACHMAN JEREMY M</th>\n",
       "      <td>248546.0</td>\n",
       "      <td>2014835.0</td>\n",
       "      <td>850000.0</td>\n",
       "      <td>1786163.0</td>\n",
       "      <td>0.142857</td>\n",
       "      <td>0.939798</td>\n",
       "      <td>False</td>\n",
       "    </tr>\n",
       "    <tr>\n",
       "      <th>SUNDE MARTIN</th>\n",
       "      <td>257486.0</td>\n",
       "      <td>1545059.0</td>\n",
       "      <td>700000.0</td>\n",
       "      <td>1175371.0</td>\n",
       "      <td>0.342105</td>\n",
       "      <td>0.969022</td>\n",
       "      <td>False</td>\n",
       "    </tr>\n",
       "  </tbody>\n",
       "</table>\n",
       "</div>"
      ],
      "text/plain": [
       "                     salary  total_payments      bonus  stock+lti  pct_to_poi  \\\n",
       "HANNON KEVIN P     243293.0        288682.0  1500000.0  8008076.0    0.656250   \n",
       "MCMAHON JEFFREY    370448.0       4099771.0  2600000.0  2357717.0    0.541667   \n",
       "HAEDICKE MARK E    374125.0       3859065.0  1150000.0  1786440.0    0.031427   \n",
       "BLACHMAN JEREMY M  248546.0       2014835.0   850000.0  1786163.0    0.142857   \n",
       "SUNDE MARTIN       257486.0       1545059.0   700000.0  1175371.0    0.342105   \n",
       "\n",
       "                   pct_shared_receipt    poi  \n",
       "HANNON KEVIN P               0.990431   True  \n",
       "MCMAHON JEFFREY              0.946072  False  \n",
       "HAEDICKE MARK E              0.460713  False  \n",
       "BLACHMAN JEREMY M            0.939798  False  \n",
       "SUNDE MARTIN                 0.969022  False  "
      ]
     },
     "execution_count": 67,
     "metadata": {},
     "output_type": "execute_result"
    }
   ],
   "source": [
    "# drop the NaNs\n",
    "enron2.dropna(inplace=True)\n",
    "enron2.head()"
   ]
  },
  {
   "cell_type": "code",
   "execution_count": 68,
   "metadata": {},
   "outputs": [
    {
     "name": "stdout",
     "output_type": "stream",
     "text": [
      "<class 'pandas.core.frame.DataFrame'>\n",
      "Index: 43 entries, HANNON KEVIN P to GLISAN JR BEN F\n",
      "Data columns (total 7 columns):\n",
      " #   Column              Non-Null Count  Dtype  \n",
      "---  ------              --------------  -----  \n",
      " 0   salary              43 non-null     float64\n",
      " 1   total_payments      43 non-null     float64\n",
      " 2   bonus               43 non-null     float64\n",
      " 3   stock+lti           43 non-null     float64\n",
      " 4   pct_to_poi          43 non-null     float64\n",
      " 5   pct_shared_receipt  43 non-null     float64\n",
      " 6   poi                 43 non-null     bool   \n",
      "dtypes: bool(1), float64(6)\n",
      "memory usage: 2.4+ KB\n"
     ]
    }
   ],
   "source": [
    "enron2.info()"
   ]
  },
  {
   "cell_type": "markdown",
   "metadata": {},
   "source": [
    "Unfortunately, now the dataseet is really small (N=43). Not sure I'll be able to find much in the way of useful relationships."
   ]
  },
  {
   "cell_type": "code",
   "execution_count": 69,
   "metadata": {},
   "outputs": [],
   "source": [
    "labels = enron2['poi']"
   ]
  },
  {
   "cell_type": "code",
   "execution_count": 70,
   "metadata": {},
   "outputs": [
    {
     "data": {
      "text/plain": [
       "10"
      ]
     },
     "execution_count": 70,
     "metadata": {},
     "output_type": "execute_result"
    }
   ],
   "source": [
    "# How many POIs are there?\n",
    "labels.sum()"
   ]
  },
  {
   "cell_type": "code",
   "execution_count": 71,
   "metadata": {},
   "outputs": [
    {
     "data": {
      "text/html": [
       "<div>\n",
       "<style scoped>\n",
       "    .dataframe tbody tr th:only-of-type {\n",
       "        vertical-align: middle;\n",
       "    }\n",
       "\n",
       "    .dataframe tbody tr th {\n",
       "        vertical-align: top;\n",
       "    }\n",
       "\n",
       "    .dataframe thead th {\n",
       "        text-align: right;\n",
       "    }\n",
       "</style>\n",
       "<table border=\"1\" class=\"dataframe\">\n",
       "  <thead>\n",
       "    <tr style=\"text-align: right;\">\n",
       "      <th></th>\n",
       "      <th>salary</th>\n",
       "      <th>total_payments</th>\n",
       "      <th>bonus</th>\n",
       "      <th>stock+lti</th>\n",
       "      <th>pct_to_poi</th>\n",
       "      <th>pct_shared_receipt</th>\n",
       "    </tr>\n",
       "  </thead>\n",
       "  <tbody>\n",
       "    <tr>\n",
       "      <th>HANNON KEVIN P</th>\n",
       "      <td>243293.0</td>\n",
       "      <td>288682.0</td>\n",
       "      <td>1500000.0</td>\n",
       "      <td>8008076.0</td>\n",
       "      <td>0.656250</td>\n",
       "      <td>0.990431</td>\n",
       "    </tr>\n",
       "    <tr>\n",
       "      <th>MCMAHON JEFFREY</th>\n",
       "      <td>370448.0</td>\n",
       "      <td>4099771.0</td>\n",
       "      <td>2600000.0</td>\n",
       "      <td>2357717.0</td>\n",
       "      <td>0.541667</td>\n",
       "      <td>0.946072</td>\n",
       "    </tr>\n",
       "    <tr>\n",
       "      <th>HAEDICKE MARK E</th>\n",
       "      <td>374125.0</td>\n",
       "      <td>3859065.0</td>\n",
       "      <td>1150000.0</td>\n",
       "      <td>1786440.0</td>\n",
       "      <td>0.031427</td>\n",
       "      <td>0.460713</td>\n",
       "    </tr>\n",
       "    <tr>\n",
       "      <th>BLACHMAN JEREMY M</th>\n",
       "      <td>248546.0</td>\n",
       "      <td>2014835.0</td>\n",
       "      <td>850000.0</td>\n",
       "      <td>1786163.0</td>\n",
       "      <td>0.142857</td>\n",
       "      <td>0.939798</td>\n",
       "    </tr>\n",
       "    <tr>\n",
       "      <th>SUNDE MARTIN</th>\n",
       "      <td>257486.0</td>\n",
       "      <td>1545059.0</td>\n",
       "      <td>700000.0</td>\n",
       "      <td>1175371.0</td>\n",
       "      <td>0.342105</td>\n",
       "      <td>0.969022</td>\n",
       "    </tr>\n",
       "  </tbody>\n",
       "</table>\n",
       "</div>"
      ],
      "text/plain": [
       "                     salary  total_payments      bonus  stock+lti  pct_to_poi  \\\n",
       "HANNON KEVIN P     243293.0        288682.0  1500000.0  8008076.0    0.656250   \n",
       "MCMAHON JEFFREY    370448.0       4099771.0  2600000.0  2357717.0    0.541667   \n",
       "HAEDICKE MARK E    374125.0       3859065.0  1150000.0  1786440.0    0.031427   \n",
       "BLACHMAN JEREMY M  248546.0       2014835.0   850000.0  1786163.0    0.142857   \n",
       "SUNDE MARTIN       257486.0       1545059.0   700000.0  1175371.0    0.342105   \n",
       "\n",
       "                   pct_shared_receipt  \n",
       "HANNON KEVIN P               0.990431  \n",
       "MCMAHON JEFFREY              0.946072  \n",
       "HAEDICKE MARK E              0.460713  \n",
       "BLACHMAN JEREMY M            0.939798  \n",
       "SUNDE MARTIN                 0.969022  "
      ]
     },
     "execution_count": 71,
     "metadata": {},
     "output_type": "execute_result"
    }
   ],
   "source": [
    "feat_list = ['salary', 'total_payments', 'bonus', 'stock+lti', 'pct_to_poi', 'pct_shared_receipt']\n",
    "features = enron2[feat_list]\n",
    "features.head()"
   ]
  },
  {
   "cell_type": "markdown",
   "metadata": {},
   "source": [
    "Start super-basic, with Naive Bayes classifier"
   ]
  },
  {
   "cell_type": "code",
   "execution_count": 72,
   "metadata": {},
   "outputs": [],
   "source": [
    "# split into train/test sets\n",
    "feat_train, feat_test, lbl_train, lbl_test = train_test_split(features, labels, test_size=0.33, random_state=42)"
   ]
  },
  {
   "cell_type": "code",
   "execution_count": 73,
   "metadata": {},
   "outputs": [
    {
     "name": "stdout",
     "output_type": "stream",
     "text": [
      "GNB accuracy:  0.6666666666666666\n",
      "GNB precis, recall, f1: (0.4, 0.5, 0.4444444444444445, None)\n"
     ]
    }
   ],
   "source": [
    "# single run of Naive Bayes\n",
    "gnb = GaussianNB()\n",
    "gnb.fit(feat_train, lbl_train)\n",
    "gnb_pred = gnb.predict(feat_test)\n",
    "print('GNB accuracy: ', gnb.score(feat_test, lbl_test))\n",
    "print('GNB precis, recall, f1:', precision_recall_fscore_support(lbl_test, gnb_pred, average='binary'))"
   ]
  },
  {
   "cell_type": "code",
   "execution_count": 74,
   "metadata": {},
   "outputs": [
    {
     "name": "stdout",
     "output_type": "stream",
     "text": [
      "BLACHMAN JEREMY M      False\n",
      "SHANKMAN JEFFREY A     False\n",
      "LEFF DANIEL P          False\n",
      "WHALLEY LAWRENCE G     False\n",
      "DELAINEY DAVID W        True\n",
      "OLSON CINDY K          False\n",
      "BOWEN JR RAYMOND M      True\n",
      "FITZGERALD JAY L       False\n",
      "RICE KENNETH D          True\n",
      "KAMINSKI WINCENTY J    False\n",
      "ALLEN PHILLIP K        False\n",
      "BUCHANAN HAROLD G      False\n",
      "MURRAY JULIA H         False\n",
      "FREVERT MARK A         False\n",
      "CAUSEY RICHARD A        True\n",
      "Name: poi, dtype: bool [False False False False False False False False  True False False False\n",
      " False  True False]\n",
      "0 0.7333333333333333 (0.5, 0.25, 0.3333333333333333, None)\n",
      "MCMAHON JEFFREY        False\n",
      "HAEDICKE MARK E        False\n",
      "MULLER MARK S          False\n",
      "HICKERSON GARY J       False\n",
      "LAVORATO JOHN J        False\n",
      "SHERRIFF JOHN R        False\n",
      "MCCONNELL MICHAEL S    False\n",
      "LAY KENNETH L           True\n",
      "DURAN WILLIAM D        False\n",
      "WASAFF GEORGE          False\n",
      "GARLAND C KEVIN        False\n",
      "KOENIG MARK E           True\n",
      "BUY RICHARD B          False\n",
      "GLISAN JR BEN F         True\n",
      "Name: poi, dtype: bool [False False False False  True False False False False False False False\n",
      " False False]\n",
      "1 1.4476190476190476 (0.0, 0.0, 0.0, None)\n",
      "HANNON KEVIN P           True\n",
      "SUNDE MARTIN            False\n",
      "WALLS JR ROBERT H       False\n",
      "BERGSIEKER RICHARD P    False\n",
      "BIBI PHILIPPE A         False\n",
      "DEFFNER JOSEPH M        False\n",
      "FALLON JAMES B          False\n",
      "CALGER CHRISTOPHER F     True\n",
      "SKILLING JEFFREY K       True\n",
      "KEAN STEVEN J           False\n",
      "SHARP VICTORIA T        False\n",
      "DIETRICH JANET R        False\n",
      "DERRICK JR. JAMES V     False\n",
      "TILNEY ELIZABETH A      False\n",
      "Name: poi, dtype: bool [False False False False False False False False  True False False False\n",
      " False False]\n",
      "2 2.3047619047619046 (1.0, 0.3333333333333333, 0.5, None)\n",
      "Stratified 3-fold X-val GNB: acc 0.7682539682539682, precis 0.5, recall 0.19444444444444442, f1 0.27777777777777773\n"
     ]
    }
   ],
   "source": [
    "# see how results change if we use cross-validation\n",
    "splits = 3\n",
    "# use stratified since POI is relatively rare\n",
    "skf = StratifiedKFold(n_splits=splits, shuffle=True, random_state=42)\n",
    "gnb_acc = 0\n",
    "gnb_precis = 0\n",
    "gnb_recall = 0\n",
    "gnb_fscore = 0\n",
    "for i, (train, test) in enumerate(skf.split(features, labels)):\n",
    "    gnb.fit(features.iloc[train], labels.iloc[train])\n",
    "    gnb_pred = gnb.predict(features.iloc[test])\n",
    "    gnb_acc += gnb.score(features.iloc[test], labels.iloc[test])\n",
    "    print(labels.iloc[test], gnb_pred)\n",
    "    prf = precision_recall_fscore_support(labels.iloc[test], gnb_pred, average='binary')\n",
    "    gnb_precis += prf[0]\n",
    "    gnb_recall += prf[1]\n",
    "    gnb_fscore += prf[2]\n",
    "    print(i, gnb_acc, prf)\n",
    "    \n",
    "gnb_acc /= splits\n",
    "gnb_precis /= splits\n",
    "gnb_recall /= splits\n",
    "gnb_fscore /= splits\n",
    "\n",
    "print('Stratified {}-fold X-val GNB: acc {}, precis {}, recall {}, f1 {}'.format(splits, gnb_acc, gnb_precis,\\\n",
    "                                                                      gnb_recall, gnb_fscore))"
   ]
  },
  {
   "cell_type": "code",
   "execution_count": 75,
   "metadata": {},
   "outputs": [
    {
     "name": "stdout",
     "output_type": "stream",
     "text": [
      "0 0.6666666666666666 (0.4, 0.5, 0.4444444444444445, None)\n",
      "1 1.5238095238095237 (0.0, 0.0, 0.0, None)\n",
      "2 2.238095238095238 (0.0, 0.0, 0.0, None)\n",
      "3-fold X-val GNB: acc 0.746031746031746, precis 0.13333333333333333, recall 0.16666666666666666, f1 0.14814814814814817\n"
     ]
    },
    {
     "name": "stderr",
     "output_type": "stream",
     "text": [
      "/home/umahp/anaconda3/lib/python3.8/site-packages/sklearn/metrics/_classification.py:1245: UndefinedMetricWarning: Precision and F-score are ill-defined and being set to 0.0 due to no predicted samples. Use `zero_division` parameter to control this behavior.\n",
      "  _warn_prf(average, modifier, msg_start, len(result))\n",
      "/home/umahp/anaconda3/lib/python3.8/site-packages/sklearn/metrics/_classification.py:1245: UndefinedMetricWarning: Precision and F-score are ill-defined and being set to 0.0 due to no predicted samples. Use `zero_division` parameter to control this behavior.\n",
      "  _warn_prf(average, modifier, msg_start, len(result))\n"
     ]
    }
   ],
   "source": [
    "splits = 3\n",
    "# stratified gave poor results; try just plain K-fold\n",
    "skf = KFold(n_splits=splits, shuffle=True, random_state=42)\n",
    "gnb_acc = 0\n",
    "gnb_precis = 0\n",
    "gnb_recall = 0\n",
    "gnb_fscore = 0\n",
    "for i, (train, test) in enumerate(skf.split(features, labels)):\n",
    "    gnb.fit(features.iloc[train], labels.iloc[train])\n",
    "    gnb_pred = gnb.predict(features.iloc[test])\n",
    "    gnb_acc += gnb.score(features.iloc[test], labels.iloc[test])\n",
    "    prf = precision_recall_fscore_support(labels.iloc[test], gnb_pred, average='binary')\n",
    "    gnb_precis += prf[0]\n",
    "    gnb_recall += prf[1]\n",
    "    gnb_fscore += prf[2]\n",
    "    print(i, gnb_acc, prf)\n",
    "    \n",
    "gnb_acc /= splits\n",
    "gnb_precis /= splits\n",
    "gnb_recall /= splits\n",
    "gnb_fscore /= splits\n",
    "\n",
    "print('{}-fold X-val GNB: acc {}, precis {}, recall {}, f1 {}'.format(splits, gnb_acc, gnb_precis,\\\n",
    "                                                                      gnb_recall, gnb_fscore))"
   ]
  },
  {
   "cell_type": "markdown",
   "metadata": {},
   "source": [
    "Those results sucked. The cross-validation results were worse, probably because I'm splitting a small dataset, so by random bad luck I just get some really low precision and recall.\n",
    "\n",
    "Try SVM next."
   ]
  },
  {
   "cell_type": "code",
   "execution_count": 76,
   "metadata": {},
   "outputs": [
    {
     "data": {
      "text/plain": [
       "array([0.05996842, 0.        , 0.16129032, 0.14389431, 1.        ,\n",
       "       0.98906654])"
      ]
     },
     "execution_count": 76,
     "metadata": {},
     "output_type": "execute_result"
    }
   ],
   "source": [
    "# scale 1st\n",
    "scaler = MinMaxScaler()\n",
    "feat_txfrm = scaler.fit_transform(features)\n",
    "feat_txfrm[0,:]"
   ]
  },
  {
   "cell_type": "code",
   "execution_count": 77,
   "metadata": {},
   "outputs": [],
   "source": [
    "feattx_train, feattx_test, lbltx_train, lbltx_test = train_test_split(feat_txfrm, labels, test_size=0.33, random_state=42)"
   ]
  },
  {
   "cell_type": "markdown",
   "metadata": {},
   "source": [
    "This is the best manually-tuned SVM (with single test/train split):"
   ]
  },
  {
   "cell_type": "code",
   "execution_count": 78,
   "metadata": {},
   "outputs": [
    {
     "name": "stdout",
     "output_type": "stream",
     "text": [
      "SVM accuracy:  0.7333333333333333\n",
      "SVM precis, recall, f1: (0.5, 0.5, 0.5, None)\n"
     ]
    }
   ],
   "source": [
    "svm_c = 93\n",
    "svm_krnl = 'rbf'\n",
    "svm_gam =  0.18\n",
    "svm = SVC(C=svm_c, kernel=svm_krnl, gamma=svm_gam)\n",
    "svm.fit(feattx_train, lbltx_train)\n",
    "svm_pred = svm.predict(feattx_test)\n",
    "#print(lbltx_test, svm_pred)\n",
    "print('SVM accuracy: ', svm.score(feattx_test, lbltx_test))\n",
    "print('SVM precis, recall, f1:', precision_recall_fscore_support(lbltx_test, svm_pred, average='binary'))"
   ]
  },
  {
   "cell_type": "markdown",
   "metadata": {},
   "source": [
    "Try some auto-tuning. The values below are adjacent to the manual tuning above. I tried multiple ranges of C and gamma, but didn't get better results than what are below."
   ]
  },
  {
   "cell_type": "code",
   "execution_count": 80,
   "metadata": {},
   "outputs": [
    {
     "data": {
      "text/plain": [
       "GridSearchCV(estimator=SVC(),\n",
       "             param_grid={'C': [90, 95, 100], 'gamma': [0.18, 0.2, 0.22],\n",
       "                         'kernel': ['rbf', 'linear']},\n",
       "             scoring='f1')"
      ]
     },
     "execution_count": 80,
     "metadata": {},
     "output_type": "execute_result"
    }
   ],
   "source": [
    "svc_params = {'kernel':['rbf','linear'], 'C':[90, 95, 100], 'gamma':[0.18, 0.2, 0.22]}\n",
    "clf = GridSearchCV(SVC(), svc_params, scoring='f1')\n",
    "clf.fit(feattx_train, lbltx_train)\n"
   ]
  },
  {
   "cell_type": "code",
   "execution_count": 81,
   "metadata": {},
   "outputs": [
    {
     "data": {
      "text/plain": [
       "0.6333333333333333"
      ]
     },
     "metadata": {},
     "output_type": "display_data"
    },
    {
     "data": {
      "text/plain": [
       "{'C': 90, 'gamma': 0.18, 'kernel': 'linear'}"
      ]
     },
     "metadata": {},
     "output_type": "display_data"
    }
   ],
   "source": [
    "display(clf.best_score_)\n",
    "display(clf.best_params_)"
   ]
  },
  {
   "cell_type": "code",
   "execution_count": 82,
   "metadata": {},
   "outputs": [
    {
     "name": "stdout",
     "output_type": "stream",
     "text": [
      "SVM accuracy:  0.4\n",
      "SVM precis, recall, f1: (0.3333333333333333, 0.5, 0.4, None)\n"
     ]
    }
   ],
   "source": [
    "svr_pred = clf.predict(feattx_test)\n",
    "print('SVM accuracy: ', clf.score(feattx_test, lbltx_test))\n",
    "print('SVM precis, recall, f1:', precision_recall_fscore_support(lbltx_test, svr_pred, average='binary'))"
   ]
  },
  {
   "cell_type": "markdown",
   "metadata": {},
   "source": [
    "Try PCA. Going to start with 2 components since there is a \"payment\" and an \"email\" aspect to the data.\n",
    "\n",
    "However, 4 components gave best \"performance\" vs. 2, 3, 5 (only 6 feats total so no point doing that)"
   ]
  },
  {
   "cell_type": "code",
   "execution_count": 83,
   "metadata": {},
   "outputs": [
    {
     "data": {
      "text/plain": [
       "array([0.48300657, 0.37941975, 0.09138431, 0.03088038])"
      ]
     },
     "execution_count": 83,
     "metadata": {},
     "output_type": "execute_result"
    }
   ],
   "source": [
    "n_comps = 4\n",
    "pca = PCA(n_components=n_comps, svd_solver='randomized').fit(feattx_train)\n",
    "feat_train_pca = pca.transform(feattx_train)\n",
    "feat_test_pca = pca.transform(feattx_test)\n",
    "pca.explained_variance_ratio_"
   ]
  },
  {
   "cell_type": "markdown",
   "metadata": {},
   "source": [
    "The parameters below are roughly the best are several tries of different ranges."
   ]
  },
  {
   "cell_type": "code",
   "execution_count": 84,
   "metadata": {},
   "outputs": [
    {
     "data": {
      "text/plain": [
       "GridSearchCV(estimator=SVC(),\n",
       "             param_grid={'C': [171, 172, 173, 174, 175, 176, 178, 180, 185,\n",
       "                               190],\n",
       "                         'gamma': [0.01, 0.1, 1, 10, 100, 1000],\n",
       "                         'kernel': ['rbf', 'linear']},\n",
       "             scoring='f1')"
      ]
     },
     "execution_count": 84,
     "metadata": {},
     "output_type": "execute_result"
    }
   ],
   "source": [
    "svc_params = {'kernel':['rbf','linear'], 'C':[171, 172, 173, 174, 175, 176, 178, 180, 185, 190], 'gamma':[0.01, 0.1, 1, 10, 100, 1000]}\n",
    "clf2 = GridSearchCV(SVC(), svc_params, scoring='f1')\n",
    "clf2.fit(feattx_train, lbltx_train)"
   ]
  },
  {
   "cell_type": "code",
   "execution_count": 85,
   "metadata": {},
   "outputs": [
    {
     "data": {
      "text/plain": [
       "0.6333333333333333"
      ]
     },
     "metadata": {},
     "output_type": "display_data"
    },
    {
     "data": {
      "text/plain": [
       "{'C': 175, 'gamma': 0.01, 'kernel': 'linear'}"
      ]
     },
     "metadata": {},
     "output_type": "display_data"
    }
   ],
   "source": [
    "clf2.fit(feat_train_pca, lbltx_train)\n",
    "display(clf2.best_score_)\n",
    "display(clf2.best_params_)"
   ]
  },
  {
   "cell_type": "code",
   "execution_count": 86,
   "metadata": {},
   "outputs": [
    {
     "name": "stdout",
     "output_type": "stream",
     "text": [
      "SVM accuracy:  0.4444444444444445\n",
      "SVM precis, recall, f1: (0.4, 0.5, 0.4444444444444445, None)\n"
     ]
    }
   ],
   "source": [
    "svr_pred = clf2.predict(feat_test_pca)\n",
    "print('SVM accuracy: ', clf2.score(feat_test_pca, lbltx_test))\n",
    "print('SVM precis, recall, f1:', precision_recall_fscore_support(lbltx_test, svr_pred, average='binary'))"
   ]
  },
  {
   "cell_type": "markdown",
   "metadata": {},
   "source": [
    "#### Summary\n",
    "\n",
    "After selecting several intrinsic and derived features that appeared to predict POI status on graphical exploration, I ran the final data through the ML algorithms.\n",
    "\n",
    "Unfortunately, dropping all the NaNs left only 43 people (10 POI, 33 non-POI) in the final dataset. With these data the best results achieved were:\n",
    "- accuracy 0.73\n",
    "- precision, recall, and f1 score 0.5\n",
    "\n",
    "This was for an SVM model with an RBF kernel. Parameters were `gamma`=0.18 and `C`=93.\n",
    "These results were obtained with a single train/test split of 0.67/0.33. \n",
    "When cross-validating or grid search for optimal parameters were used, the results were degraded because the model seemed sensitive to how the data were split. This is probably a consequence of the small size of the dataset. \n",
    "Using PCA to reduce the dimensionality and/or find latent features also failed to produce better results."
   ]
  },
  {
   "cell_type": "code",
   "execution_count": null,
   "metadata": {},
   "outputs": [],
   "source": []
  }
 ],
 "metadata": {
  "kernelspec": {
   "display_name": "Python 3",
   "language": "python",
   "name": "python3"
  },
  "language_info": {
   "codemirror_mode": {
    "name": "ipython",
    "version": 3
   },
   "file_extension": ".py",
   "mimetype": "text/x-python",
   "name": "python",
   "nbconvert_exporter": "python",
   "pygments_lexer": "ipython3",
   "version": "3.8.5"
  }
 },
 "nbformat": 4,
 "nbformat_minor": 4
}
